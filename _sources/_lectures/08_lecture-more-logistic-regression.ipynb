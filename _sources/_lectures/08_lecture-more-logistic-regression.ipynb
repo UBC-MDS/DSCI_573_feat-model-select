{
 "cells": [
  {
   "cell_type": "markdown",
   "metadata": {
    "slideshow": {
     "slide_type": "slide"
    }
   },
   "source": [
    "# DSCI 573: Feature and Model Selection \n",
    "\n",
    "## Lecture 8: More about Logistic Regression\n",
    "\n",
    "UBC Master of Data Science program, 2020-21\n",
    "\n",
    "Instructor: Varada Kolhatkar "
   ]
  },
  {
   "cell_type": "code",
   "execution_count": 1,
   "metadata": {
    "slideshow": {
     "slide_type": "skip"
    }
   },
   "outputs": [],
   "source": [
    "import os\n",
    "\n",
    "%matplotlib inline\n",
    "import string\n",
    "from collections import deque\n",
    "\n",
    "import matplotlib.pyplot as plt\n",
    "import numpy as np\n",
    "import numpy.random as npr\n",
    "import pandas as pd\n",
    "\n",
    "# other\n",
    "from sklearn.metrics import accuracy_score, log_loss, make_scorer, mean_squared_error\n",
    "from sklearn.model_selection import (\n",
    "    cross_val_score,\n",
    "    cross_validate,\n",
    "    train_test_split,\n",
    ")\n",
    "\n",
    "from sklearn import datasets\n",
    "from sklearn.linear_model import LogisticRegression\n",
    "\n",
    "pd.set_option(\"display.max_colwidth\", 200)\n",
    "# pip install git+git://github.com/mgelbart/plot-classifier.git\n",
    "from plot_classifier import plot_classifier, plot_loss_diagram\n"
   ]
  },
  {
   "cell_type": "markdown",
   "metadata": {
    "slideshow": {
     "slide_type": "slide"
    }
   },
   "source": [
    "### Learning outcomes \n",
    "\n",
    "From this lecture, students are expected to be able to: \n",
    "\n",
    "- Explain the \"column of ones\" trick. \n",
    "- Explain vectorization in logistic regression.  \n",
    "- Explain the intuition behind logistic loss. \n",
    "- Explain the difference between sigmoid and logistic loss. \n",
    "- Implement logistic loss. \n",
    "- Use `sklearn`'s `log_loss` function. \n",
    "- Explain the difference between loss and error. \n",
    "- Explain and implement softmax function.\n",
    "- Use `multi_class=\"multinomial\"` for `LogisticRegression` for multi-class classification. "
   ]
  },
  {
   "cell_type": "markdown",
   "metadata": {
    "slideshow": {
     "slide_type": "slide"
    }
   },
   "source": [
    "## 1. Logistic regression: `predict`\n",
    "- Video 1"
   ]
  },
  {
   "cell_type": "markdown",
   "metadata": {
    "slideshow": {
     "slide_type": "slide"
    }
   },
   "source": [
    "- It is a classification algorithm. Since it's linear and a classifier, we call it a linear classifier."
   ]
  },
  {
   "cell_type": "markdown",
   "metadata": {
    "slideshow": {
     "slide_type": "slide"
    }
   },
   "source": [
    "- Recall that logistic regression learns the weights $w$ and bias or intercept $b$\n",
    "- There's one coefficient per feature, plus an intercept, just like linear regression.\n",
    "- We combine our features and coefficients with a dot product: \n",
    "\n",
    "\\begin{equation}\n",
    "\\begin{split}\n",
    "z =& w_1x_1 + \\dots w_dx_d + b\\\\\n",
    "=& w^Tx + b\n",
    "\\end{split}\n",
    "\\end{equation}\n"
   ]
  },
  {
   "cell_type": "code",
   "execution_count": 2,
   "metadata": {
    "slideshow": {
     "slide_type": "slide"
    }
   },
   "outputs": [
    {
     "name": "stdout",
     "output_type": "stream",
     "text": [
      "x: [ 0.77822721  0.43548783 -0.70491797  0.0413766  -0.84906356]\n",
      "w: [ 0.70065258  0.66882859  0.59905631  0.51125365 -0.87355653]\n"
     ]
    }
   ],
   "source": [
    "d = 5\n",
    "x = np.random.uniform(-1, 1, d)\n",
    "w = np.random.uniform(-1, 1, d) \n",
    "print('x:', x)\n",
    "print('w:', w)"
   ]
  },
  {
   "cell_type": "code",
   "execution_count": 3,
   "metadata": {},
   "outputs": [
    {
     "name": "stdout",
     "output_type": "stream",
     "text": [
      "w^T.x:  1.1771070085710456\n"
     ]
    }
   ],
   "source": [
    "print('w^T.x: ', np.dot(w.T, x))"
   ]
  },
  {
   "cell_type": "markdown",
   "metadata": {
    "slideshow": {
     "slide_type": "slide"
    }
   },
   "source": [
    "### \"column of ones\" trick \n",
    " \n",
    "- We'll often ignore the intercept $b$ because of the \"column of ones\" trick. \n",
    "- For simplicity, we rename bias term as $w_0$ and introduce a dummy feature $x_0$ whose value is always 1. \n",
    "- So $w_1x_1 + \\dots + w_nx_n + b$ becomes $w_0x_0 + w_1x_1 + \\dots + w_nx_n$, where $x_0$ is always 1. "
   ]
  },
  {
   "cell_type": "markdown",
   "metadata": {
    "slideshow": {
     "slide_type": "slide"
    }
   },
   "source": [
    "### \"column of ones\" trick: example\n",
    "\n",
    "- Suppose $X$ has only one feature, say $x_1$: \n",
    "$$X = \\begin{bmatrix}0.86 \\\\ 0.02 \\\\ -0.42 \\end{bmatrix}$$ \n",
    "- Make a new matrix $Z$ with an extra feature (say $x_0$) whose value is always 1. \n",
    "$$Z = \\begin{bmatrix}1 & 0.86\\\\ 1 & 0.02 \\\\ 1 & -0.42\\\\ \\end{bmatrix}$$\n",
    "- Use $Z$ instead of $X$. "
   ]
  },
  {
   "cell_type": "code",
   "execution_count": 4,
   "metadata": {
    "slideshow": {
     "slide_type": "slide"
    }
   },
   "outputs": [
    {
     "data": {
      "text/plain": [
       "array([[ 0.5060273 ,  0.42174358, -0.43451624, -0.3821009 , -0.96547577],\n",
       "       [-0.19443369,  0.94406096, -0.6897764 , -0.22245692,  0.63942998],\n",
       "       [ 0.56814134,  0.75783539, -0.55455206,  0.17784076, -0.34708951],\n",
       "       [ 0.4983871 ,  0.41544464,  0.12728545, -0.5230312 , -0.00424926]])"
      ]
     },
     "execution_count": 4,
     "metadata": {},
     "output_type": "execute_result"
    }
   ],
   "source": [
    "n, d = 100, 5\n",
    "X = np.random.uniform(-1, 1, [n,d])\n",
    "X[:4]"
   ]
  },
  {
   "cell_type": "markdown",
   "metadata": {},
   "source": [
    "Let's add a column of ones to create `Z`."
   ]
  },
  {
   "cell_type": "code",
   "execution_count": 5,
   "metadata": {},
   "outputs": [
    {
     "data": {
      "text/plain": [
       "array([[ 1.        ,  0.5060273 ,  0.42174358, -0.43451624, -0.3821009 ,\n",
       "        -0.96547577],\n",
       "       [ 1.        , -0.19443369,  0.94406096, -0.6897764 , -0.22245692,\n",
       "         0.63942998],\n",
       "       [ 1.        ,  0.56814134,  0.75783539, -0.55455206,  0.17784076,\n",
       "        -0.34708951],\n",
       "       [ 1.        ,  0.4983871 ,  0.41544464,  0.12728545, -0.5230312 ,\n",
       "        -0.00424926]])"
      ]
     },
     "execution_count": 5,
     "metadata": {},
     "output_type": "execute_result"
    }
   ],
   "source": [
    "Z = np.ones((n,d+1))\n",
    "Z[:,1:] = X\n",
    "Z[:4]"
   ]
  },
  {
   "cell_type": "markdown",
   "metadata": {
    "slideshow": {
     "slide_type": "slide"
    }
   },
   "source": [
    "- Suppose $w$ are our learned parameters. "
   ]
  },
  {
   "cell_type": "code",
   "execution_count": 6,
   "metadata": {},
   "outputs": [
    {
     "data": {
      "text/plain": [
       "array([ 0.52480423, -0.41598735,  0.06382638, -0.79729799,  0.8001295 ,\n",
       "        0.01362316])"
      ]
     },
     "execution_count": 6,
     "metadata": {},
     "output_type": "execute_result"
    }
   ],
   "source": [
    "w = np.random.uniform(-1, 1, d+1) \n",
    "w"
   ]
  },
  {
   "cell_type": "markdown",
   "metadata": {
    "slideshow": {
     "slide_type": "slide"
    }
   },
   "source": [
    "### Vectorization\n",
    "\n",
    "- We can organize all the training examples into a matrix $Z$ with one row per training example. \n",
    "- Then compute the predictions for the whole dataset succinctly as $Zw$ for the whole dataset: \n",
    "- We take each row of $Z$ and dot-product it with $w$. So the result is a vector of all our predictions.\n",
    "\n",
    "$$Zw = \\begin{bmatrix}w^Tz_0 \\\\ w^Tz_1 \\\\ \\vdots \\\\ w^Tz_n\\end{bmatrix} = \\begin{bmatrix}z_0w \\\\ z_1w \\\\ \\vdots \\\\ z_nw\\end{bmatrix} = \\begin{bmatrix} \\hat{y_1} \\\\ \\hat{y_2} \\\\ \\vdots \\\\ \\hat{y_n}\\end{bmatrix} $$\n",
    "\n"
   ]
  },
  {
   "cell_type": "code",
   "execution_count": 7,
   "metadata": {
    "slideshow": {
     "slide_type": "slide"
    }
   },
   "outputs": [
    {
     "data": {
      "text/plain": [
       "array([ 0.36877753,  1.04661623,  0.91654494, -0.17603719,  1.42893646,\n",
       "        0.51584516,  1.05058312,  0.82968848,  1.30954244,  0.40445746])"
      ]
     },
     "execution_count": 7,
     "metadata": {},
     "output_type": "execute_result"
    }
   ],
   "source": [
    "y_hat = Z@w\n",
    "y_hat[:10]"
   ]
  },
  {
   "cell_type": "code",
   "execution_count": 8,
   "metadata": {},
   "outputs": [
    {
     "data": {
      "text/plain": [
       "array([ 0.36877753,  1.04661623,  0.91654494, -0.17603719,  1.42893646,\n",
       "        0.51584516,  1.05058312,  0.82968848,  1.30954244,  0.40445746])"
      ]
     },
     "execution_count": 8,
     "metadata": {},
     "output_type": "execute_result"
    }
   ],
   "source": [
    "y_hat = np.dot(Z, w)\n",
    "y_hat[:10]"
   ]
  },
  {
   "cell_type": "markdown",
   "metadata": {
    "slideshow": {
     "slide_type": "slide"
    }
   },
   "source": [
    "### Scores to probabilities \n",
    "\n",
    "- The numbers we saw above are \"raw model output\".\n",
    "- For linear regression this would have been the prediction.\n",
    "- For logistic regression, you check the **sign** of this value.\n",
    "  - If positive, predict $+1$; if negative, predict $-1$.\n",
    "  - These are \"hard predictions\".\n",
    "- You can also have \"soft predictions\", aka predicted probabilities. \n",
    "  - To convert the raw model output into probabilities, instead of taking the sign, we apply the sigmoid."
   ]
  },
  {
   "cell_type": "markdown",
   "metadata": {
    "slideshow": {
     "slide_type": "slide"
    }
   },
   "source": [
    "### The sigmoid function \n",
    "- The sigmoid function \"squashes\" the raw model output from any number to the range $[0,1]$.\n",
    "$$\\frac{1}{1+e^{-x}}$$ \n",
    "- Then we can interpret the output as probabilities."
   ]
  },
  {
   "cell_type": "code",
   "execution_count": 9,
   "metadata": {
    "slideshow": {
     "slide_type": "-"
    }
   },
   "outputs": [
    {
     "data": {
      "image/png": "[encoded data removed]",
      "text/plain": [
       "<Figure size 432x288 with 1 Axes>"
      ]
     },
     "metadata": {
      "needs_background": "light"
     },
     "output_type": "display_data"
    }
   ],
   "source": [
    "sigmoid = lambda x: 1/(1+np.exp(-x))\n",
    "raw_model_output = np.linspace(-8,8,1000)\n",
    "plt.plot(raw_model_output, sigmoid(raw_model_output));\n",
    "plt.plot([0,0],[0,0.5], '--k')\n",
    "plt.plot([-8,0],[0.5,0.5], '--k')\n",
    "plt.xlabel(\"raw model output, $w^Tx$\"); plt.ylabel(\"predicted probability\");plt.title(\"the sigmoid function\");"
   ]
  },
  {
   "cell_type": "code",
   "execution_count": 10,
   "metadata": {
    "slideshow": {
     "slide_type": "slide"
    }
   },
   "outputs": [
    {
     "data": {
      "text/plain": [
       "array([ 0.36877753,  1.04661623,  0.91654494, -0.17603719,  1.42893646,\n",
       "        0.51584516,  1.05058312,  0.82968848,  1.30954244,  0.40445746])"
      ]
     },
     "execution_count": 10,
     "metadata": {},
     "output_type": "execute_result"
    }
   ],
   "source": [
    "y_hat[:10]"
   ]
  },
  {
   "cell_type": "code",
   "execution_count": 11,
   "metadata": {},
   "outputs": [
    {
     "data": {
      "text/plain": [
       "array([0.59116355, 0.74012459, 0.71433759, 0.456104  , 0.80673555,\n",
       "       0.62617571, 0.74088686, 0.69628906, 0.78743658, 0.59975814])"
      ]
     },
     "execution_count": 11,
     "metadata": {},
     "output_type": "execute_result"
    }
   ],
   "source": [
    "sigmoid(y_hat)[:10]"
   ]
  },
  {
   "cell_type": "markdown",
   "metadata": {
    "slideshow": {
     "slide_type": "slide"
    }
   },
   "source": [
    "### Example"
   ]
  },
  {
   "cell_type": "code",
   "execution_count": 12,
   "metadata": {
    "slideshow": {
     "slide_type": "-"
    }
   },
   "outputs": [],
   "source": [
    "cities_df = pd.read_csv(\"data/canada_usa_cities.csv\")\n",
    "train_df, test_df = train_test_split(cities_df, test_size=0.2, random_state=123)\n",
    "#mapping = {'Canada': 1, 'USA': 0}\n",
    "#train_df.replace({'country': mapping}, inplace=True)\n",
    "#test_df.replace({'country': mapping}, inplace=True)\n",
    "X_train, y_train = train_df.drop(columns=[\"country\"], axis=1), train_df[\"country\"]\n",
    "X_test, y_test = test_df.drop(columns=[\"country\"], axis=1), test_df[\"country\"]\n",
    "y_train_bin = np.where(y_train == 'Canada', 1, 0)"
   ]
  },
  {
   "cell_type": "code",
   "execution_count": 13,
   "metadata": {
    "slideshow": {
     "slide_type": "slide"
    }
   },
   "outputs": [
    {
     "data": {
      "text/plain": [
       "Index(['longitude', 'latitude'], dtype='object')"
      ]
     },
     "execution_count": 13,
     "metadata": {},
     "output_type": "execute_result"
    }
   ],
   "source": [
    "X_train.columns"
   ]
  },
  {
   "cell_type": "code",
   "execution_count": 14,
   "metadata": {},
   "outputs": [
    {
     "name": "stdout",
     "output_type": "stream",
     "text": [
      "Model weights: [[0.04740261 0.10963683]]\n",
      "Model intercept: [0.]\n"
     ]
    },
    {
     "data": {
      "text/html": [
       "<div>\n",
       "<style scoped>\n",
       "    .dataframe tbody tr th:only-of-type {\n",
       "        vertical-align: middle;\n",
       "    }\n",
       "\n",
       "    .dataframe tbody tr th {\n",
       "        vertical-align: top;\n",
       "    }\n",
       "\n",
       "    .dataframe thead th {\n",
       "        text-align: right;\n",
       "    }\n",
       "</style>\n",
       "<table border=\"1\" class=\"dataframe\">\n",
       "  <thead>\n",
       "    <tr style=\"text-align: right;\">\n",
       "      <th></th>\n",
       "      <th>features</th>\n",
       "      <th>coefficients</th>\n",
       "    </tr>\n",
       "  </thead>\n",
       "  <tbody>\n",
       "    <tr>\n",
       "      <th>0</th>\n",
       "      <td>longitude</td>\n",
       "      <td>0.047403</td>\n",
       "    </tr>\n",
       "    <tr>\n",
       "      <th>1</th>\n",
       "      <td>latitude</td>\n",
       "      <td>0.109637</td>\n",
       "    </tr>\n",
       "  </tbody>\n",
       "</table>\n",
       "</div>"
      ],
      "text/plain": [
       "    features  coefficients\n",
       "0  longitude      0.047403\n",
       "1   latitude      0.109637"
      ]
     },
     "execution_count": 14,
     "metadata": {},
     "output_type": "execute_result"
    }
   ],
   "source": [
    "lr = LogisticRegression(fit_intercept=False)\n",
    "lr.fit(X_train, y_train_bin)\n",
    "print(\"Model weights: %s\"%(lr.coef_)) # these are weights\n",
    "print(\"Model intercept: %s\"%(lr.intercept_)) # this is the bias term\n",
    "data = {'features': X_train.columns, 'coefficients':lr.coef_[0]}\n",
    "pd.DataFrame(data)"
   ]
  },
  {
   "cell_type": "markdown",
   "metadata": {
    "slideshow": {
     "slide_type": "slide"
    }
   },
   "source": [
    "### Decision boundary of logistic regression\n",
    "\n",
    "- The decision boundary is a hyperplane dividing the feature space in half. \n",
    "- The decision boundary is a $d-1$-dimensional hyperplane, where $d$ is the number of features.\n",
    "- You can think of the coefficients as controlling the orientation of the boundary."
   ]
  },
  {
   "cell_type": "code",
   "execution_count": 15,
   "metadata": {
    "slideshow": {
     "slide_type": "-"
    }
   },
   "outputs": [
    {
     "data": {
      "image/png": "[encoded data removed]",
      "text/plain": [
       "<Figure size 432x432 with 1 Axes>"
      ]
     },
     "metadata": {},
     "output_type": "display_data"
    }
   ],
   "source": [
    "plt.figure(figsize=(6, 6))\n",
    "plot_classifier(X_train, y_train_bin, lr, ax=plt.gca())\n",
    "plt.title(\"Logistic regression\");"
   ]
  },
  {
   "cell_type": "markdown",
   "metadata": {
    "slideshow": {
     "slide_type": "slide"
    }
   },
   "source": [
    "### Prediction with learned weights"
   ]
  },
  {
   "cell_type": "code",
   "execution_count": 16,
   "metadata": {
    "slideshow": {
     "slide_type": "-"
    }
   },
   "outputs": [
    {
     "data": {
      "text/plain": [
       "[-64.8001, 46.098]"
      ]
     },
     "execution_count": 16,
     "metadata": {},
     "output_type": "execute_result"
    }
   ],
   "source": [
    "example = X_test.iloc[0,:]\n",
    "example.tolist()"
   ]
  },
  {
   "cell_type": "code",
   "execution_count": 17,
   "metadata": {
    "slideshow": {
     "slide_type": "-"
    }
   },
   "outputs": [
    {
     "data": {
      "text/plain": [
       "1.982344648567123"
      ]
     },
     "execution_count": 17,
     "metadata": {},
     "output_type": "execute_result"
    }
   ],
   "source": [
    "np.dot(example.tolist(), lr.coef_.flatten())"
   ]
  },
  {
   "cell_type": "code",
   "execution_count": 18,
   "metadata": {},
   "outputs": [
    {
     "data": {
      "text/plain": [
       "array([0, 1])"
      ]
     },
     "execution_count": 18,
     "metadata": {},
     "output_type": "execute_result"
    }
   ],
   "source": [
    "lr.classes_"
   ]
  },
  {
   "cell_type": "markdown",
   "metadata": {
    "slideshow": {
     "slide_type": "-"
    }
   },
   "source": [
    "- Our threshold here is 0\n",
    "- The sign is positive and so predict class 1 (Canada in our case). "
   ]
  },
  {
   "cell_type": "code",
   "execution_count": 19,
   "metadata": {},
   "outputs": [
    {
     "data": {
      "text/plain": [
       "array([1])"
      ]
     },
     "execution_count": 19,
     "metadata": {},
     "output_type": "execute_result"
    }
   ],
   "source": [
    "lr.predict([example])"
   ]
  },
  {
   "cell_type": "markdown",
   "metadata": {
    "slideshow": {
     "slide_type": "slide"
    }
   },
   "source": [
    "### Predicting probabilities \n",
    "\n",
    "- We can get the probability scores (confidence) of the classifier's prediction using the `model.predict_proba` method. "
   ]
  },
  {
   "cell_type": "code",
   "execution_count": 20,
   "metadata": {},
   "outputs": [
    {
     "data": {
      "text/plain": [
       "array([[0.12106912, 0.87893088]])"
      ]
     },
     "execution_count": 20,
     "metadata": {},
     "output_type": "execute_result"
    }
   ],
   "source": [
    "lr.predict_proba([example])"
   ]
  },
  {
   "cell_type": "markdown",
   "metadata": {},
   "source": [
    "Let's examine whether we get the same answer if we call sigmoid on $w^Tx$ or $x.w$"
   ]
  },
  {
   "cell_type": "code",
   "execution_count": 21,
   "metadata": {},
   "outputs": [
    {
     "data": {
      "text/plain": [
       "1.982344648567123"
      ]
     },
     "execution_count": 21,
     "metadata": {},
     "output_type": "execute_result"
    }
   ],
   "source": [
    "np.dot(example.tolist(), lr.coef_.flatten())"
   ]
  },
  {
   "cell_type": "code",
   "execution_count": 22,
   "metadata": {},
   "outputs": [
    {
     "data": {
      "text/plain": [
       "0.8789308811659498"
      ]
     },
     "execution_count": 22,
     "metadata": {},
     "output_type": "execute_result"
    }
   ],
   "source": [
    "sigmoid(np.dot(example.tolist(), lr.coef_.flatten()))"
   ]
  },
  {
   "cell_type": "markdown",
   "metadata": {},
   "source": [
    "We get the same probability score!!"
   ]
  },
  {
   "cell_type": "markdown",
   "metadata": {
    "slideshow": {
     "slide_type": "slide"
    }
   },
   "source": [
    "- Generally we use regularization with logistic regression. \n",
    "- By default, `sklearn`'s logistic regression uses `l2` penalty with `C=1.0`, where `C` is inverse of regularization strength; smaller values specify stronger regularization.\n",
    "\n",
    "> class sklearn.linear_model.LogisticRegression(penalty='l2', *, dual=False, tol=0.0001, C=1.0, fit_intercept=True, intercept_scaling=1, class_weight=None, random_state=None, solver='lbfgs', max_iter=100, multi_class='auto', verbose=0, warm_start=False, n_jobs=None, l1_ratio=None)\n"
   ]
  },
  {
   "cell_type": "markdown",
   "metadata": {
    "slideshow": {
     "slide_type": "skip"
    }
   },
   "source": [
    "- More than any other topic I've seen, logistic regression spans both statistics and ML.\n",
    "- In DSCI 562, you'll learn about logistic regression as a GLM, with the link function, maximum likelihood, etc.\n",
    "- That formulation is equivalent, but we'll do things differently:\n",
    "  - In ML, we encode $y$ as $+1$ and $-1$, as opposed to $1$ and $0$. This makes our math a bit cleaner.\n",
    "  - We'll also think more from an optimization perspective rather than a likelihood / distributional assumptions perspective. "
   ]
  },
  {
   "cell_type": "markdown",
   "metadata": {
    "slideshow": {
     "slide_type": "slide"
    }
   },
   "source": [
    "## Logistic regression: `fit`\n",
    "- Video 2 "
   ]
  },
  {
   "cell_type": "markdown",
   "metadata": {
    "slideshow": {
     "slide_type": "slide"
    }
   },
   "source": [
    "### Goal\n",
    "\n",
    "- Learn parameters $w$ and $b$ which make predictions for each training example as close as possible to the true $y$. \n",
    "- We need two things: \n",
    "    - **Loss function**: A metric to measure how much a prediction differs from the true $y$. \n",
    "    - **Optimization algorithm**: for iteratively updating the weights so as to minimize the loss function. (More on this in 572.)   \n",
    "- Assumption: We are going to assume that your classes are -1 and +1. "
   ]
  },
  {
   "cell_type": "markdown",
   "metadata": {
    "slideshow": {
     "slide_type": "skip"
    }
   },
   "source": [
    "Note: You'll learn the maximum likelihood interpretation of the loss in DSCI 562. Here we take a different perspective. "
   ]
  },
  {
   "cell_type": "markdown",
   "metadata": {
    "slideshow": {
     "slide_type": "slide"
    }
   },
   "source": [
    "### Least squares loss function\n",
    "\n",
    "- We are familiar with least squares loss function used in linear regression. \n",
    "\n",
    "$$f(w)=\\sum_{i=1}^n (w^Tx_i-y_i)^2$$\n",
    "\n",
    "- It's a function of $w$.\n",
    "- We define loss of a single example as squared difference between prediction and true target.\n",
    "- The total loss is summation of losses over all training examples.  "
   ]
  },
  {
   "cell_type": "markdown",
   "metadata": {
    "slideshow": {
     "slide_type": "slide"
    }
   },
   "source": [
    "### Least squares for logistic regression? \n",
    "\n",
    "$$f(w)=\\sum_{i=1}^n (w^Tx_i-y_i)^2$$\n",
    "\n",
    "- For logistic regression $y_i$ values are just +1 or -1. \n",
    "- The raw model output $w^Tx_i$ can be any number. \n",
    "- Does it make sense to use this loss function for logistic regression?\n",
    "    - Not really. "
   ]
  },
  {
   "cell_type": "markdown",
   "metadata": {
    "slideshow": {
     "slide_type": "slide"
    }
   },
   "source": [
    "### Why not least squares loss for logistic regression?\n",
    "\n",
    "$$f(w)=\\sum_{i=1}^n (w^Tx_i-y_i)^2$$\n",
    "\n",
    "- Example: \n",
    "    - Suppose $w^Tx_i$ (prediction) is 101 and $y_i$ is $+1$. \n",
    "    - The model is behaving correctly, because $101$ is positive and so it will predict $+1$.\n",
    "    - But according to this loss function, you have a bad prediction because the loss is huge: $(101 - 1)^2 = 10000$. \n",
    "- The squared error doesn't make sense here.    \n",
    "    - It does not make sense to compare raw model outputs which can be any number to 1 or -1. "
   ]
  },
  {
   "cell_type": "markdown",
   "metadata": {
    "slideshow": {
     "slide_type": "slide"
    }
   },
   "source": [
    "### Want\n",
    "\n",
    "- Need a loss that encourages \n",
    "    - $w^Tx_i$ to be positive when $y_i$ is $+1$ \n",
    "    - $w^Tx_i$ to be negative when $y_i$ is $-1$"
   ]
  },
  {
   "cell_type": "markdown",
   "metadata": {
    "slideshow": {
     "slide_type": "slide"
    }
   },
   "source": [
    "### Key idea \n",
    "\n",
    "- **Multiply $y_iw^Tx_i$**. \n",
    "- We always want this quantity to be positive because\n",
    "- If $y_i$ and $w^Tx_i$ have the _same sign_, the product will be positive.\n",
    "    - $w^Tx_i$ is positive and $y_i$ is positive 🙂\n",
    "    - $w^Tx_i$ is negative and $y_i$ is negative 🙂\n",
    "- If they have _oppositve signs_, the product will be negative.\n",
    "    - $w^Tx_i$ is positive and $y_i$ is negative 😔 \n",
    "    - $w^Tx_i$ is negative and $y_i$ is positive 😔"
   ]
  },
  {
   "cell_type": "markdown",
   "metadata": {
    "slideshow": {
     "slide_type": "slide"
    }
   },
   "source": [
    "- So, we want a loss that's sort of like \n",
    "$$f(w) = -\\sum_{i=1}^n y_iw^Tx_i$$ \n",
    "- The negative sign above is because we want to minimize.\n",
    "    - Maximizing the actual amount and minimizing the negative amount are the same thing. \n",
    "- By making this small, we encourage the model to make correct predictions.  \n",
    "- The above loss does not quite work out. (I believe it has no minimum in most cases.) "
   ]
  },
  {
   "cell_type": "markdown",
   "metadata": {
    "slideshow": {
     "slide_type": "slide"
    }
   },
   "source": [
    "### Logistic loss \n",
    "\n",
    "- So we do something similar instead:\n",
    "  \n",
    "  $$f(w)=\\sum_{i=1}^n\\log\\left(1+\\exp(-y_iw^Tx_i)\\right)$$\n",
    "\n",
    "- Let's plot this function. "
   ]
  },
  {
   "cell_type": "markdown",
   "metadata": {
    "slideshow": {
     "slide_type": "slide"
    }
   },
   "source": [
    "### Logistic loss: intuition \n",
    "\n",
    "- The function gets smaller as $y_iw^Tx_i$ gets larger, so it encourages correct classification. \n",
    "- So if we minimize this loss, which means if we move down and to the right, it is encouraging positive values and hence correct predictions. \n",
    "- Not perfect but reasonable! "
   ]
  },
  {
   "cell_type": "code",
   "execution_count": 23,
   "metadata": {},
   "outputs": [
    {
     "data": {
      "image/png": "[encoded data removed]",
      "text/plain": [
       "<Figure size 432x288 with 1 Axes>"
      ]
     },
     "metadata": {
      "needs_background": "light"
     },
     "output_type": "display_data"
    }
   ],
   "source": [
    "grid = np.linspace(-10,10,1000)\n",
    "fun = lambda z: np.log(1+np.exp(-z))\n",
    "plt.plot(grid, fun(grid));\n",
    "plt.xlabel(\"$y_iw^Tx_i$\");\n",
    "plt.ylabel(\"loss for one training example\")\n",
    "plt.title(\"Logistic loss transformation\");"
   ]
  },
  {
   "cell_type": "markdown",
   "metadata": {
    "slideshow": {
     "slide_type": "slide"
    }
   },
   "source": [
    "### Sigmoid vs. logistic loss\n",
    "\n",
    "- A common source of confusion: \n",
    "    - Sigmoid: $$\\frac{1}{(1+\\exp(-z))}$$\n",
    "    - logistic loss: $$\\log(1+\\exp(-z))$$\n",
    "- They look very similar and both are used in logistic regression.\n",
    "- They have very different purposes. "
   ]
  },
  {
   "cell_type": "markdown",
   "metadata": {
    "slideshow": {
     "slide_type": "slide"
    }
   },
   "source": [
    "### Sigmoid vs. logistic loss\n",
    "\n",
    "- Sigmoid function: $$\\frac{1}{(1+\\exp(-z))}$$\n",
    "    - Maps $w^Tx_i$ to a number in $[0,1]$, to be interpreted as a probability. \n",
    "    - This is important in `predict_proba`. \n",
    "\n",
    "- Logistic loss: $\\log(1+\\exp(-z))$ \n",
    "    - Maps $y_iw^Tx_i$ to a positive number, which is the loss contribution from one training example. \n",
    "    - This is important in `fit`."
   ]
  },
  {
   "cell_type": "markdown",
   "metadata": {
    "slideshow": {
     "slide_type": "skip"
    }
   },
   "source": [
    "### Hinge loss (optional)\n",
    "\n",
    "- Another loss for linear classifiers is **Hinge loss**, which is: \n",
    "\n",
    "$$max\\{0,1-y_iw^Tx_i\\}$$ \n",
    "\n",
    "- When you use Hinge loss with L2 regularization, it's called a linear support vector machine.  \n",
    "    $$f(w) = \\sum_{i=1}^n max\\{0,1-y_iw^Tx_i\\} + \\frac{\\lambda}{2} \\lVert w\\rVert_2^2$$\n",
    "- For more mathematical details on these topics see the following slide decks from CPSC 340. \n",
    "    - [Linear classifiers](https://www.cs.ubc.ca/~schmidtm/Courses/340-F19/L20.pdf)\n",
    "    - [More on linear classifiers](https://www.cs.ubc.ca/~schmidtm/Courses/340-F19/L19.pdf)\n",
    "- It will make more sense when you learn about optimization.     "
   ]
  },
  {
   "cell_type": "markdown",
   "metadata": {
    "slideshow": {
     "slide_type": "slide"
    }
   },
   "source": [
    "## Let's implement logistic loss function  \n",
    "\n",
    "- Video 3"
   ]
  },
  {
   "cell_type": "markdown",
   "metadata": {
    "slideshow": {
     "slide_type": "slide"
    }
   },
   "source": [
    "Let's code up logistic loss in Python. \n",
    "\n",
    "$$f(w)=\\sum_{i=1}^n\\log\\left(1+\\exp(-y_iw^Tx_i)\\right)$$    "
   ]
  },
  {
   "cell_type": "code",
   "execution_count": 24,
   "metadata": {
    "slideshow": {
     "slide_type": "-"
    }
   },
   "outputs": [],
   "source": [
    "def my_log_loss(w, X, y):\n",
    "    return np.sum(np.log(1 + np.exp(-y*(X@w))))"
   ]
  },
  {
   "cell_type": "markdown",
   "metadata": {},
   "source": [
    "Recall that this loss function works when our classes are -1 and 1. "
   ]
  },
  {
   "cell_type": "code",
   "execution_count": 25,
   "metadata": {
    "slideshow": {
     "slide_type": "slide"
    }
   },
   "outputs": [],
   "source": [
    "cities_df = pd.read_csv(\"data/canada_usa_cities.csv\")\n",
    "train_df, test_df = train_test_split(cities_df, test_size=0.2, random_state=123)\n",
    "X_train, y_train = train_df.drop(columns=[\"country\"], axis=1), train_df[\"country\"]\n",
    "X_test, y_test = test_df.drop(columns=[\"country\"], axis=1), test_df[\"country\"]\n",
    "\n",
    "y_train_neg_1 = np.where(y_train == 'Canada', -1, 1) "
   ]
  },
  {
   "cell_type": "markdown",
   "metadata": {},
   "source": [
    "For simplicity we are ignoring the intercept. "
   ]
  },
  {
   "cell_type": "code",
   "execution_count": 26,
   "metadata": {},
   "outputs": [],
   "source": [
    "lr = LogisticRegression(fit_intercept=False)\n",
    "lr.fit(X_train, y_train_neg_1);"
   ]
  },
  {
   "cell_type": "code",
   "execution_count": 27,
   "metadata": {},
   "outputs": [
    {
     "data": {
      "text/plain": [
       "92.8431566075896"
      ]
     },
     "execution_count": 27,
     "metadata": {},
     "output_type": "execute_result"
    }
   ],
   "source": [
    "my_log_loss(np.squeeze(lr.coef_), X_train, y_train_neg_1)"
   ]
  },
  {
   "cell_type": "markdown",
   "metadata": {},
   "source": [
    "You can use `sklearn`'s `log_loss` function to get logistic loss. "
   ]
  },
  {
   "cell_type": "code",
   "execution_count": 28,
   "metadata": {},
   "outputs": [
    {
     "data": {
      "text/plain": [
       "92.84315660758959"
      ]
     },
     "execution_count": 28,
     "metadata": {},
     "output_type": "execute_result"
    }
   ],
   "source": [
    "from sklearn.metrics import log_loss\n",
    "\n",
    "probs = lr.predict_proba(X_train)\n",
    "log_loss(y_train_neg_1, probs, normalize=False)"
   ]
  },
  {
   "cell_type": "markdown",
   "metadata": {
    "slideshow": {
     "slide_type": "slide"
    }
   },
   "source": [
    "In 572, you'll see how after each iteration of your optimization algorithm your loss changes. "
   ]
  },
  {
   "cell_type": "markdown",
   "metadata": {
    "slideshow": {
     "slide_type": "slide"
    }
   },
   "source": [
    "### Another source of confusion \n",
    "\n",
    "- You might see this alternative formulation for logistic loss. \n",
    "- For example see [here](https://developers.google.com/machine-learning/crash-course/logistic-regression/model-training) or [here](https://ml-cheatsheet.readthedocs.io/en/latest/loss_functions.html).\n",
    "\n",
    "\n",
    "$$f(w) = \\sum_{x,y \\in D} -y log(\\hat{y}) - (1-y)log(1-\\hat{y})$$\n",
    "\n",
    "- Although this looks very different than the loss function we saw before, they produce the same loss. \n",
    "- This is also referred to as cross-entropy loss. \n",
    "- Logistic loss = cross-entropy loss "
   ]
  },
  {
   "cell_type": "markdown",
   "metadata": {
    "slideshow": {
     "slide_type": "slide"
    }
   },
   "source": [
    "### The key difference between them\n",
    "\n",
    "- This formulation assumes the classes to be 0 and 1. \n",
    "$$f(w) = \\sum_{x,y \\in D} -y log(\\hat{y}) - (1-y)log(1-\\hat{y})$$\n",
    "   \n",
    "- Our previous formulation assumes classes to be -1 and +1. \n",
    "  $$f(w)=\\sum_{i=1}^n\\log\\left(1+\\exp(-y_iw^Tx_i)\\right)$$    "
   ]
  },
  {
   "cell_type": "markdown",
   "metadata": {
    "slideshow": {
     "slide_type": "slide"
    }
   },
   "source": [
    "Let's examine this. The following code \n",
    "\n",
    "- Replaces Canada with -1 and USA with 1 to create `y_train_neg_1`.\n",
    "- Replaces Canada with 0 and USA with 1 to create `y_train_0`."
   ]
  },
  {
   "cell_type": "code",
   "execution_count": 29,
   "metadata": {},
   "outputs": [],
   "source": [
    "y_train_neg_1 = np.where(y_train == 'Canada', -1, 1) \n",
    "y_train_0 = np.where(y_train == 'Canada', 0, 1) "
   ]
  },
  {
   "cell_type": "markdown",
   "metadata": {
    "slideshow": {
     "slide_type": "slide"
    }
   },
   "source": [
    "### Let's define our loss functions"
   ]
  },
  {
   "cell_type": "code",
   "execution_count": 30,
   "metadata": {},
   "outputs": [],
   "source": [
    "def my_log_loss(w, X, y): # this formulation assumes classes to be -1 and 1\n",
    "    return np.sum(np.log(1 + np.exp(-y*(X@w))))"
   ]
  },
  {
   "cell_type": "code",
   "execution_count": 31,
   "metadata": {},
   "outputs": [],
   "source": [
    "def my_cross_ent_loss(y, probs): # this formulation assumes classes to be 0 and 1\n",
    "    return np.sum(-y*np.log(probs[:,1])-(1-y)*np.log(probs[:,0]))"
   ]
  },
  {
   "cell_type": "code",
   "execution_count": 32,
   "metadata": {
    "slideshow": {
     "slide_type": "slide"
    }
   },
   "outputs": [],
   "source": [
    "lr = LogisticRegression(fit_intercept=False)\n",
    "lr.fit(X_train, y_train_neg_1);"
   ]
  },
  {
   "cell_type": "code",
   "execution_count": 33,
   "metadata": {},
   "outputs": [],
   "source": [
    "probs = lr.predict_proba(X_train)"
   ]
  },
  {
   "cell_type": "markdown",
   "metadata": {
    "slideshow": {
     "slide_type": "-"
    }
   },
   "source": [
    "Let's check the loss with `sklearn`'s `log_loss` in both cases. "
   ]
  },
  {
   "cell_type": "code",
   "execution_count": 34,
   "metadata": {},
   "outputs": [
    {
     "data": {
      "text/plain": [
       "92.84315660758959"
      ]
     },
     "execution_count": 34,
     "metadata": {},
     "output_type": "execute_result"
    }
   ],
   "source": [
    "log_loss(y_train_0, probs, normalize=False)"
   ]
  },
  {
   "cell_type": "code",
   "execution_count": 35,
   "metadata": {},
   "outputs": [
    {
     "data": {
      "text/plain": [
       "92.84315660758959"
      ]
     },
     "execution_count": 35,
     "metadata": {},
     "output_type": "execute_result"
    }
   ],
   "source": [
    "log_loss(y_train_neg_1, probs, normalize=False)"
   ]
  },
  {
   "cell_type": "markdown",
   "metadata": {
    "slideshow": {
     "slide_type": "slide"
    }
   },
   "source": [
    "Let's check log loss with `y_train_neg_1`. "
   ]
  },
  {
   "cell_type": "code",
   "execution_count": 36,
   "metadata": {},
   "outputs": [
    {
     "data": {
      "text/plain": [
       "92.8431566075896"
      ]
     },
     "execution_count": 36,
     "metadata": {},
     "output_type": "execute_result"
    }
   ],
   "source": [
    "my_log_loss(np.squeeze(lr.coef_), X_train, y_train_neg_1)"
   ]
  },
  {
   "cell_type": "markdown",
   "metadata": {},
   "source": [
    "Let's check cross entropy loss with `y_train_0`. "
   ]
  },
  {
   "cell_type": "code",
   "execution_count": 37,
   "metadata": {},
   "outputs": [
    {
     "data": {
      "text/plain": [
       "92.84315660758959"
      ]
     },
     "execution_count": 37,
     "metadata": {},
     "output_type": "execute_result"
    }
   ],
   "source": [
    "my_cross_ent_loss(y_train_0, probs)"
   ]
  },
  {
   "cell_type": "markdown",
   "metadata": {},
   "source": [
    "We get the same result in all cases!! "
   ]
  },
  {
   "cell_type": "markdown",
   "metadata": {
    "slideshow": {
     "slide_type": "slide"
    }
   },
   "source": [
    "### Error vs. loss\n",
    "\n",
    "- With earlier methods like random forests, we just talked about accuracy (or error rate, which is 1 minus accuracy).\n",
    "- With logistic regression, there are two separate metrics we need to keep in mind.\n",
    "- scikit-learn's `score` returns the accuracy. "
   ]
  },
  {
   "cell_type": "code",
   "execution_count": 38,
   "metadata": {
    "slideshow": {
     "slide_type": "slide"
    }
   },
   "outputs": [
    {
     "data": {
      "text/plain": [
       "0.6946107784431138"
      ]
     },
     "execution_count": 38,
     "metadata": {},
     "output_type": "execute_result"
    }
   ],
   "source": [
    "lr = LogisticRegression(fit_intercept=False)\n",
    "lr.fit(X_train, y_train_neg_1);\n",
    "lr.score(X_train, y_train_neg_1)"
   ]
  },
  {
   "cell_type": "markdown",
   "metadata": {},
   "source": [
    "- So we got this accuracy, and the error is 1 minus this. \n",
    "- But the loss is different."
   ]
  },
  {
   "cell_type": "code",
   "execution_count": 39,
   "metadata": {},
   "outputs": [
    {
     "data": {
      "text/plain": [
       "92.8431566075896"
      ]
     },
     "execution_count": 39,
     "metadata": {},
     "output_type": "execute_result"
    }
   ],
   "source": [
    "my_log_loss(np.squeeze(lr.coef_), X_train, y_train_neg_1)"
   ]
  },
  {
   "cell_type": "markdown",
   "metadata": {},
   "source": [
    "- So, why not use the error rate as the loss, and directly maximize accuracy?\n",
    "- Because it's not a smooth function, which makes it hard to optimize.\n",
    "- This is a bit beyond the scope of the course."
   ]
  },
  {
   "cell_type": "markdown",
   "metadata": {
    "slideshow": {
     "slide_type": "slide"
    }
   },
   "source": [
    "## Softmax\n",
    "\n",
    "- Video 4"
   ]
  },
  {
   "cell_type": "markdown",
   "metadata": {
    "slideshow": {
     "slide_type": "slide"
    }
   },
   "source": [
    "### Softmax function\n",
    "\n",
    "Standard way to convert numbers in a vector into a probability distribution.  \n",
    "\n",
    "Intuition: \n",
    "- Exponentiate to put things in positive land. \n",
    "- Normalize to give probability distribution. "
   ]
  },
  {
   "cell_type": "markdown",
   "metadata": {
    "slideshow": {
     "slide_type": "slide"
    }
   },
   "source": [
    "Let's create a vector with random numbers. "
   ]
  },
  {
   "cell_type": "code",
   "execution_count": 40,
   "metadata": {},
   "outputs": [
    {
     "data": {
      "text/plain": [
       "array([ 0.08702828, -0.22180959,  1.41595878, -1.7871291 , -3.96587657,\n",
       "        1.46869959, -2.95684709,  1.12029123, -3.61956621, -1.3392124 ])"
      ]
     },
     "execution_count": 40,
     "metadata": {},
     "output_type": "execute_result"
    }
   ],
   "source": [
    "d = 10\n",
    "vec = np.random.uniform(-4, 2, d)\n",
    "vec"
   ]
  },
  {
   "cell_type": "markdown",
   "metadata": {
    "slideshow": {
     "slide_type": "-"
    }
   },
   "source": [
    "Exponentiate to put things in positive land."
   ]
  },
  {
   "cell_type": "code",
   "execution_count": 41,
   "metadata": {},
   "outputs": [
    {
     "data": {
      "text/plain": [
       "array([1.09092753, 0.80106788, 4.12043514, 0.16744018, 0.01895142,\n",
       "       4.34358303, 0.05198256, 3.06574692, 0.0267943 , 0.26205198])"
      ]
     },
     "execution_count": 41,
     "metadata": {},
     "output_type": "execute_result"
    }
   ],
   "source": [
    "vec_exp = np.exp(vec)\n",
    "vec_exp"
   ]
  },
  {
   "cell_type": "markdown",
   "metadata": {
    "slideshow": {
     "slide_type": "slide"
    }
   },
   "source": [
    "- Normalizing gives us a probability distribution. "
   ]
  },
  {
   "cell_type": "code",
   "execution_count": 42,
   "metadata": {},
   "outputs": [
    {
     "data": {
      "text/plain": [
       "array([1.09092753, 0.80106788, 4.12043514, 0.16744018, 0.01895142,\n",
       "       4.34358303, 0.05198256, 3.06574692, 0.0267943 , 0.26205198])"
      ]
     },
     "execution_count": 42,
     "metadata": {},
     "output_type": "execute_result"
    }
   ],
   "source": [
    "vec_exp"
   ]
  },
  {
   "cell_type": "code",
   "execution_count": 43,
   "metadata": {},
   "outputs": [
    {
     "data": {
      "text/plain": [
       "array([0.0782084 , 0.05742842, 0.29539327, 0.01200376, 0.00135862,\n",
       "       0.31139071, 0.00372662, 0.21978286, 0.00192088, 0.01878646])"
      ]
     },
     "execution_count": 43,
     "metadata": {},
     "output_type": "execute_result"
    }
   ],
   "source": [
    "vec_softmax = vec_exp/np.sum(vec_exp)\n",
    "vec_softmax"
   ]
  },
  {
   "cell_type": "code",
   "execution_count": 44,
   "metadata": {},
   "outputs": [
    {
     "data": {
      "text/plain": [
       "1.0000000000000002"
      ]
     },
     "execution_count": 44,
     "metadata": {},
     "output_type": "execute_result"
    }
   ],
   "source": [
    "np.sum(vec_softmax)"
   ]
  },
  {
   "cell_type": "markdown",
   "metadata": {},
   "source": [
    "- They sum to 1.0! "
   ]
  },
  {
   "cell_type": "markdown",
   "metadata": {
    "slideshow": {
     "slide_type": "slide"
    }
   },
   "source": [
    "Let's write a function for softmax. "
   ]
  },
  {
   "cell_type": "code",
   "execution_count": 45,
   "metadata": {},
   "outputs": [],
   "source": [
    "my_softmax = lambda z: np.exp(z)/np.sum(np.exp(z))"
   ]
  },
  {
   "cell_type": "code",
   "execution_count": 46,
   "metadata": {},
   "outputs": [
    {
     "data": {
      "text/plain": [
       "array([0.0782084 , 0.05742842, 0.29539327, 0.01200376, 0.00135862,\n",
       "       0.31139071, 0.00372662, 0.21978286, 0.00192088, 0.01878646])"
      ]
     },
     "execution_count": 46,
     "metadata": {},
     "output_type": "execute_result"
    }
   ],
   "source": [
    "my_softmax(vec)"
   ]
  },
  {
   "cell_type": "code",
   "execution_count": 47,
   "metadata": {},
   "outputs": [
    {
     "data": {
      "text/plain": [
       "1.0000000000000002"
      ]
     },
     "execution_count": 47,
     "metadata": {},
     "output_type": "execute_result"
    }
   ],
   "source": [
    "np.sum(my_softmax(vec))"
   ]
  },
  {
   "cell_type": "markdown",
   "metadata": {
    "slideshow": {
     "slide_type": "slide"
    }
   },
   "source": [
    "### `LogisticRegression` with `multi_class=\"multinomial\"`\n",
    "\n",
    "- In 571, we carried out multi-class classification with logistic regression using meta strategies such as one-vs-rest and one-vs-one. \n",
    "- You can also do multi-class classification using a different loss function called softmax loss, aka the categorical cross-entropy loss for logistic regression with multi-class. "
   ]
  },
  {
   "cell_type": "markdown",
   "metadata": {
    "slideshow": {
     "slide_type": "slide"
    }
   },
   "source": [
    "### `LogisticRegression` with `multi_class=\"multinomial\"`\n",
    "- Intuition    \n",
    "    - The loss tries to make the probability of the correct class large.\n",
    "    - Which forces the rest to be small since they must add to 1.\n",
    "    - It's a generalization of the logistic loss to multi-class.\n",
    "- Note that softmax function and softmax loss although same in spirit are different things and have different purposes.    "
   ]
  },
  {
   "cell_type": "markdown",
   "metadata": {
    "slideshow": {
     "slide_type": "slide"
    }
   },
   "source": [
    "- Let's carry out multi-class classification with logistic regression with softmax loss or categorical cross-entropy loss. \n",
    "- Let's try it on the digits data set, which contains images of hand-written digits: 10 classes where each class refers to a digit."
   ]
  },
  {
   "cell_type": "code",
   "execution_count": 48,
   "metadata": {},
   "outputs": [],
   "source": [
    "digits = datasets.load_digits()"
   ]
  },
  {
   "cell_type": "code",
   "execution_count": 49,
   "metadata": {},
   "outputs": [
    {
     "data": {
      "text/plain": [
       "<Figure size 432x288 with 0 Axes>"
      ]
     },
     "metadata": {},
     "output_type": "display_data"
    },
    {
     "data": {
      "image/png": "[encoded data removed]",
      "text/plain": [
       "<Figure size 288x288 with 1 Axes>"
      ]
     },
     "metadata": {
      "needs_background": "light"
     },
     "output_type": "display_data"
    }
   ],
   "source": [
    "plt.gray() \n",
    "plt.matshow(digits.images[0]) \n",
    "plt.show() "
   ]
  },
  {
   "cell_type": "code",
   "execution_count": 50,
   "metadata": {},
   "outputs": [],
   "source": [
    "X = digits['data']\n",
    "y = digits['target']\n",
    "\n",
    "X_train, X_test, y_train, y_test = train_test_split(X, y, test_size=0.2, random_state=42)"
   ]
  },
  {
   "cell_type": "code",
   "execution_count": 51,
   "metadata": {
    "slideshow": {
     "slide_type": "slide"
    }
   },
   "outputs": [],
   "source": [
    "lr_multi = LogisticRegression(multi_class=\"multinomial\", max_iter = 2000)\n",
    "lr_multi.fit(X_train, y_train);"
   ]
  },
  {
   "cell_type": "code",
   "execution_count": 52,
   "metadata": {},
   "outputs": [
    {
     "name": "stdout",
     "output_type": "stream",
     "text": [
      "Predicted: 6\n",
      "Actual: 6\n"
     ]
    }
   ],
   "source": [
    "print(\"Predicted:\", lr_multi.predict(X_test)[0])\n",
    "print(\"Actual:\", y_test[0])"
   ]
  },
  {
   "cell_type": "code",
   "execution_count": 53,
   "metadata": {},
   "outputs": [
    {
     "data": {
      "text/plain": [
       "array([6.25220632e-08, 3.97982950e-11, 1.40280689e-13, 1.40386857e-13,\n",
       "       1.27294274e-09, 2.22986984e-11, 9.99987983e-01, 3.83782018e-11,\n",
       "       1.19531779e-05, 1.33030006e-11])"
      ]
     },
     "execution_count": 53,
     "metadata": {},
     "output_type": "execute_result"
    }
   ],
   "source": [
    "lr_multi.predict_proba(X_test)[0]"
   ]
  },
  {
   "cell_type": "markdown",
   "metadata": {},
   "source": [
    "This is the output of softmax. Here is an excerpt from sklearn documentation. \n",
    "> For a multi_class problem, if multi_class is set to be “multinomial” the softmax function is used to find the predicted probability of each class. Else use a one-vs-rest approach, i.e calculate the probability of each class assuming it to be positive using the logistic function. and normalize these values across all the classes."
   ]
  },
  {
   "cell_type": "code",
   "execution_count": 54,
   "metadata": {},
   "outputs": [
    {
     "data": {
      "text/plain": [
       "6"
      ]
     },
     "execution_count": 54,
     "metadata": {},
     "output_type": "execute_result"
    }
   ],
   "source": [
    "np.argmax(lr_multi.predict_proba(X_test)[0])"
   ]
  },
  {
   "cell_type": "markdown",
   "metadata": {},
   "source": [
    "- It's actually the \"soft max\" because it's like the max function but \"soft\"."
   ]
  },
  {
   "cell_type": "markdown",
   "metadata": {
    "slideshow": {
     "slide_type": "slide"
    }
   },
   "source": [
    "## Summary and final remarks\n",
    "\n",
    "- Video 5"
   ]
  },
  {
   "cell_type": "markdown",
   "metadata": {
    "slideshow": {
     "slide_type": "slide"
    }
   },
   "source": [
    "## Summary of the course \n",
    "\n",
    "- In this course we learned about \n",
    "    - Evaluation metrics for classification\n",
    "    - Class imbalance\n",
    "    - Evaluation metrics for regression\n",
    "    - Feature engineering, polynimial basis, radial basis functions \n",
    "    - Feature importances for linear classifiers\n",
    "    - Feature selection with RFE, forward selection, L0 penalty \n",
    "    - Ensemble methods \n",
    "    - Feature importances and interpretation for non-linear models\n",
    "    - Loss functions\n",
    "    - L2 and L1 regularization\n",
    "    - Logistic loss, softmax "
   ]
  },
  {
   "cell_type": "markdown",
   "metadata": {
    "slideshow": {
     "slide_type": "slide"
    }
   },
   "source": [
    "## Map of ML courses in MDS \n",
    "\n",
    "<img src=\"imgs/MDS-ML-map.png\" height=\"1500\" width=\"1500\"> "
   ]
  },
  {
   "cell_type": "markdown",
   "metadata": {
    "slideshow": {
     "slide_type": "slide"
    }
   },
   "source": [
    "### Coming up ...\n",
    "\n",
    "- Optimization, deep learning, PyTorch, convolution neural networks  (572)\n",
    "    - You will be implementing logistic regression on your own in 572!!! \n",
    "- Clustering, expectation maximization, PCA, recommendation systems (563)\n",
    "- Word embeddings, Markov models, topic modeling, recurrent neural networks, long-short term memory networks, image captioning (575)"
   ]
  },
  {
   "attachments": {
    "image.png": {
     "image/png": "[encoded data removed]"
    }
   },
   "cell_type": "markdown",
   "metadata": {
    "slideshow": {
     "slide_type": "slide"
    }
   },
   "source": [
    "### Final remarks\n",
    "\n",
    "I enjoyed teaching you this course! Thank you for your support, your engagement, great questions, and your feedback!\n",
    "I hope you now feel comfortable with building a supervised machine learning pipeline for a given prediction problem. \n",
    "\n",
    "Enjoy your break and I look forward to teach you again next year :)! \n",
    "\n",
    "![image.png](attachment:image.png)\n",
    "\n",
    "FYI: The online course evaluations are up, it'll be great if you can fill them in when you get a chance. "
   ]
  },
  {
   "cell_type": "markdown",
   "metadata": {},
   "source": [
    "### True/False questions for class discussion (Videos 1 and 2)\n",
    "\n",
    "1. When the term $y_iw^Tx_i$ in logistic loss is positive, it means we have a correct prediction. (True)\n",
    "2. Minimizing logistic loss leads to mapping $y_iw^Tx_i$ to a positive number. (True)\n",
    "3. Using least squares loss for logistic regression makes sense because logistic regression is very similar to linear regression except that it's used for classification. (False)\n",
    "4. Logistic loss formulation we looked at expects the target values to be -1 and +1. (True) \n",
    "5. Sigmoid and logistic loss are basically the same thing with different names. (False)"
   ]
  },
  {
   "cell_type": "markdown",
   "metadata": {},
   "source": [
    "### True/False questions for class discussion (Videos 3 and 4)\n",
    "1. Loss is basically the same as error (1 - accuracy) on the training set. (False)\n",
    "2. When you apply the softmax function you may end up messing up the scale of the numbers in your vector. (True according to me. But kind of ambiguous.)\n",
    "3. You can use logistic regression with softmax or multinomial cross-entropy loss for multi-class classification problems. (True)  \n",
    "4. If you are using L2 penalty with logistic loss and if you increase the regularization strength you would expect the loss to go down. (False) \n",
    "5. If you are using L2 penalty with logistic loss and if you increase the regularization strength you would expect a lower training score but potentially higher CV score if it helped with overfitting. (True)\n"
   ]
  }
 ],
 "metadata": {
  "celltoolbar": "Slideshow",
  "kernelspec": {
   "display_name": "Python [conda env:571]",
   "language": "python",
   "name": "conda-env-571-py"
  },
  "language_info": {
   "codemirror_mode": {
    "name": "ipython",
    "version": 3
   },
   "file_extension": ".py",
   "mimetype": "text/x-python",
   "name": "python",
   "nbconvert_exporter": "python",
   "pygments_lexer": "ipython3",
   "version": "3.8.6"
  }
 },
 "nbformat": 4,
 "nbformat_minor": 4
}
