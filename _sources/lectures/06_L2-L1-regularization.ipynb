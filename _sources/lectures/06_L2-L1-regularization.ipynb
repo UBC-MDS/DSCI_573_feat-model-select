{
 "cells": [
  {
   "cell_type": "markdown",
   "metadata": {
    "slideshow": {
     "slide_type": "slide"
    }
   },
   "source": [
    "![](img/573_banner.png)"
   ]
  },
  {
   "cell_type": "markdown",
   "metadata": {
    "slideshow": {
     "slide_type": "-"
    }
   },
   "source": [
    "# Lecture 6: L2- and L1-Regularization\n",
    "\n",
    "UBC Master of Data Science program, 2022-23\n",
    "\n",
    "Instructor: Varada Kolhatkar "
   ]
  },
  {
   "cell_type": "markdown",
   "metadata": {
    "slideshow": {
     "slide_type": "slide"
    }
   },
   "source": [
    "Atrribution: A lot of this material is adapted from [CPSC 340](https://www.cs.ubc.ca/~schmidtm/Courses/340-F19/L18.pdf) lecture notes. "
   ]
  },
  {
   "cell_type": "markdown",
   "metadata": {
    "slideshow": {
     "slide_type": "slide"
    }
   },
   "source": [
    "## Imports"
   ]
  },
  {
   "cell_type": "code",
   "execution_count": 1,
   "metadata": {
    "slideshow": {
     "slide_type": "skip"
    }
   },
   "outputs": [],
   "source": [
    "import os\n",
    "import sys\n",
    "\n",
    "sys.path.append(\"code/.\")\n",
    "%matplotlib inline\n",
    "import matplotlib.pyplot as plt\n",
    "import mglearn\n",
    "import numpy as np\n",
    "import numpy.linalg as npla\n",
    "import numpy.random as npr\n",
    "import pandas as pd\n",
    "from plotting_functions import *\n",
    "from sklearn import datasets\n",
    "from sklearn.dummy import DummyClassifier, DummyRegressor\n",
    "from sklearn.impute import SimpleImputer\n",
    "from sklearn.linear_model import LinearRegression, LogisticRegression, Ridge, RidgeCV\n",
    "from sklearn.model_selection import cross_val_score, cross_validate, train_test_split\n",
    "from sklearn.preprocessing import PolynomialFeatures, StandardScaler\n",
    "pd.set_option(\"display.max_colwidth\", 200)"
   ]
  },
  {
   "cell_type": "markdown",
   "metadata": {
    "slideshow": {
     "slide_type": "skip"
    }
   },
   "source": [
    "### Learning outcomes \n",
    "\n",
    "From this lecture, students are expected to be able to: \n",
    "\n",
    "- Broadly explain L2 regularization (Ridge).  \n",
    "- Use L2 regularization (Ridge) using `sklearn`. \n",
    "- Compare L0- and L2-regularization.\n",
    "- Explain the relation between the size of regression weights, overfitting, and complexity hyperparameters. \n",
    "- Explain the effect of training data size and effect of regularization.   \n",
    "- Explain the general idea of L1-regularization.\n",
    "- Learn to be skeptical about interpretation of the coefficients. \n",
    "- Use L1-regularization (Lasso) using `sklearn`. \n",
    "- Discuss sparsity in L1-regularization. \n",
    "- Compare L0-, L1-, and L2-regularization.\n",
    "- Use L1 regularization for feature selection. \n",
    "- Explain the importance of scaling when using L1- and L2-regularization\n",
    "- Broadly explain how L1 and L2 regularization behave in the presence of collinear features.   "
   ]
  },
  {
   "cell_type": "markdown",
   "metadata": {
    "slideshow": {
     "slide_type": "slide"
    }
   },
   "source": [
    "## Recap"
   ]
  },
  {
   "cell_type": "markdown",
   "metadata": {
    "slideshow": {
     "slide_type": "slide"
    },
    "tags": []
   },
   "source": [
    "### Idea of regularization: Pick the line/hyperplane with smaller slope \n",
    "\n",
    "- Assuming the models below (dashed and solid green lines) have the same training error and if you are forced to choose one of them, which one would you pick?\n",
    "    - **Pick the solid green line because its slope is smaller.**\n",
    "    - Small change in $x_i$ has a smaller change in prediction $y_i$\n",
    "    - Since $w$ is less sensitive to the training data, it's likely to generalize better.  \n",
    "![](img/regularization.png)\n",
    "<!-- <img src='img/green_or_red.png' width=\"600\" height=\"600\" /> -->\n"
   ]
  },
  {
   "cell_type": "markdown",
   "metadata": {},
   "source": [
    "- Regularization is a technique for controlling model complexity. \n",
    "    - Instead of minimizing just the Loss, minimize **Loss + $\\lambda $ Model complexity**\n",
    "    - Loss: measures how well the model fits the data.\n",
    "    - Model complexity: measures model complexity (also referred to as **regularization term**)\n",
    "    - A scalar $\\lambda$ decides the overall impact of the regularization term. "
   ]
  },
  {
   "cell_type": "markdown",
   "metadata": {},
   "source": [
    "### How to quantify model complexity?\n",
    "- Total number of features with non-zero weights \n",
    "    - L0 regularization: quantify model complexity as $\\lVert w \\rVert_0$, L0 norm of $w$. \n",
    "- As a function of weights: A feature weight with high absolute value is more complex than the feature weight with low absolute value. \n",
    "    - L2 regularization: quantify model complexity as $\\lVert w \\rVert_2^2$, square of the L2 norm of $w$. \n",
    "    - L1 regularization: quantify model complexity as $\\lVert w \\rVert_1$, L1 norm of $w$. "
   ]
  },
  {
   "cell_type": "markdown",
   "metadata": {},
   "source": [
    "### L0-regularization\n",
    "\n",
    "- L0-regularization. \n",
    "\n",
    "$$f(w) = \\lVert Xw - y\\rVert_2^2 + \\lambda \\lVert w\\rVert_0$$\n",
    "\n",
    "- Regularization parameter $\\lambda$ controls the strength of regularization.\n",
    "- To increase the degrees of freedom by one, need to decrease the error by $\\lambda$. \n",
    "- Prefer smaller degrees of freedom if errors are similar. \n",
    "- Can't optimize because the function is discontinuous in $\\lVert w\\rVert_0$\n",
    "    - Search over possible models     "
   ]
  },
  {
   "cell_type": "markdown",
   "metadata": {
    "slideshow": {
     "slide_type": "slide"
    }
   },
   "source": [
    "### L2-regularization\n",
    "\n",
    "- Standard regularization strategy is L2-regularization.\n",
    "- Also referred to as **Ridge**. \n",
    "- The loss function has an L2 penalty term.  \n",
    "\n",
    "$$f(w) = \\lVert Xw - y\\rVert_2^2 + \\lambda \\lVert w\\rVert_2^2$$\n",
    "\n",
    "- Regularization parameter $\\lambda$ controls the strength of regularization. \n",
    "    - bigger $\\lambda$ $\\rightarrow$ more regularization $\\rightarrow$ lower weights\n",
    "- Setting $\\lambda = 0$ is the same as using OLS \n",
    "    - Low training error, high variance, bigger weights, likely to overfit \n",
    "- Setting $\\lambda$ to a large value leads to smaller weights   \n",
    "    - Higher training error, low variance, high bias, smaller weights, likely to underfit \n",
    "- We want to strike a balance between these two extremes, which we can control by optimizing the value for $\\lambda$."
   ]
  },
  {
   "cell_type": "markdown",
   "metadata": {},
   "source": [
    "### `sklearn`'s `Ridge` or L2 regularization    \n",
    "\n",
    "Let's bring back `sklearn's` California housing dataset. "
   ]
  },
  {
   "cell_type": "code",
   "execution_count": 2,
   "metadata": {},
   "outputs": [],
   "source": [
    "from sklearn.datasets import fetch_california_housing\n",
    "from sklearn.preprocessing import PolynomialFeatures\n",
    "\n",
    "housing = fetch_california_housing(as_frame=True)\n",
    "X = housing[\"data\"]\n",
    "y = housing[\"target\"]\n",
    "\n",
    "pf = PolynomialFeatures(degree=2, include_bias=False)\n",
    "X = pf.fit_transform(X)\n",
    "X_train_poly, X_test_poly, y_train, y_test = train_test_split(X, y, random_state=0)\n",
    "\n",
    "ss = StandardScaler()\n",
    "X_train = ss.fit_transform(X_train_poly)\n",
    "X_test = ss.transform(X_test_poly)\n"
   ]
  },
  {
   "cell_type": "code",
   "execution_count": 3,
   "metadata": {},
   "outputs": [
    {
     "data": {
      "text/plain": [
       "(15480, 44)"
      ]
     },
     "execution_count": 3,
     "metadata": {},
     "output_type": "execute_result"
    }
   ],
   "source": [
    "X_train.shape"
   ]
  },
  {
   "cell_type": "markdown",
   "metadata": {},
   "source": [
    "Let's explore L2 regularization with this dataset. "
   ]
  },
  {
   "cell_type": "markdown",
   "metadata": {},
   "source": [
    "### Example: L2-Regularization \"Shrinking\"\n",
    "- $\\lambda$ in the formulation above is `alpha` in `sklearn`. \n",
    "- We get least squares with $\\lambda = 0$.\n",
    "- As we increase $\\alpha$\n",
    "    - $\\lVert Xw - y\\rVert_2^2$ goes $\\uparrow$ \n",
    "    - $\\lVert w\\rVert_2^2$  goes $\\downarrow$\n",
    "    - Though individual $w_j$ can increase or decrease with lambda because we use the L2-norm, the large ones decrease the most."
   ]
  },
  {
   "cell_type": "code",
   "execution_count": 4,
   "metadata": {},
   "outputs": [],
   "source": [
    "def lr_loss_squared(w, X, y): # define OLS loss function\n",
    "    return np.sum((y - X @ w) ** 2)"
   ]
  },
  {
   "cell_type": "code",
   "execution_count": 5,
   "metadata": {},
   "outputs": [],
   "source": [
    "from numpy.linalg import norm\n",
    "alphas = [0, 0.01, 0.1, 1.0, 10, 100, 1000, 1000000]\n",
    "weight_shrinkage_data = {'alpha':[], '||Xw - y||^2':[], '||w||^2':[], 'intercept':[], 'train score':[], 'test score':[]}\n",
    "\n",
    "for (i, alpha) in enumerate(alphas): \n",
    "    r = Ridge(alpha=alpha) \n",
    "    r.fit(X_train, y_train)\n",
    "    weight_shrinkage_data['alpha'].append(alpha)\n",
    "    OLS = np.round(lr_loss_squared(r.coef_, X_train, y_train), 4)\n",
    "    l2_term = np.round(norm(r.coef_, 2)**2, 4)\n",
    "    intercept = np.round(r.intercept_,4)\n",
    "    weight_shrinkage_data['||Xw - y||^2'].append(OLS)\n",
    "    weight_shrinkage_data['||w||^2'].append(l2_term)    \n",
    "    weight_shrinkage_data['intercept'].append(intercept)\n",
    "    weight_shrinkage_data['train score'].append(np.round(r.score(X_train, y_train), 2))\n",
    "    weight_shrinkage_data['test score'].append(np.round(r.score(X_test, y_test), 2))"
   ]
  },
  {
   "cell_type": "code",
   "execution_count": 6,
   "metadata": {},
   "outputs": [
    {
     "data": {
      "text/html": [
       "<div>\n",
       "<style scoped>\n",
       "    .dataframe tbody tr th:only-of-type {\n",
       "        vertical-align: middle;\n",
       "    }\n",
       "\n",
       "    .dataframe tbody tr th {\n",
       "        vertical-align: top;\n",
       "    }\n",
       "\n",
       "    .dataframe thead th {\n",
       "        text-align: right;\n",
       "    }\n",
       "</style>\n",
       "<table border=\"1\" class=\"dataframe\">\n",
       "  <thead>\n",
       "    <tr style=\"text-align: right;\">\n",
       "      <th></th>\n",
       "      <th>alpha</th>\n",
       "      <th>||Xw - y||^2</th>\n",
       "      <th>||w||^2</th>\n",
       "      <th>intercept</th>\n",
       "      <th>train score</th>\n",
       "      <th>test score</th>\n",
       "    </tr>\n",
       "  </thead>\n",
       "  <tbody>\n",
       "    <tr>\n",
       "      <th>0</th>\n",
       "      <td>0.00</td>\n",
       "      <td>73099.4882</td>\n",
       "      <td>7634.4579</td>\n",
       "      <td>2.0744</td>\n",
       "      <td>0.69</td>\n",
       "      <td>-0.73</td>\n",
       "    </tr>\n",
       "    <tr>\n",
       "      <th>1</th>\n",
       "      <td>0.01</td>\n",
       "      <td>73113.1963</td>\n",
       "      <td>4239.9359</td>\n",
       "      <td>2.0744</td>\n",
       "      <td>0.69</td>\n",
       "      <td>-0.17</td>\n",
       "    </tr>\n",
       "    <tr>\n",
       "      <th>2</th>\n",
       "      <td>0.10</td>\n",
       "      <td>73222.8589</td>\n",
       "      <td>888.3987</td>\n",
       "      <td>2.0744</td>\n",
       "      <td>0.68</td>\n",
       "      <td>0.62</td>\n",
       "    </tr>\n",
       "    <tr>\n",
       "      <th>3</th>\n",
       "      <td>1.00</td>\n",
       "      <td>73437.3112</td>\n",
       "      <td>77.0152</td>\n",
       "      <td>2.0744</td>\n",
       "      <td>0.67</td>\n",
       "      <td>0.02</td>\n",
       "    </tr>\n",
       "    <tr>\n",
       "      <th>4</th>\n",
       "      <td>10.00</td>\n",
       "      <td>73597.9629</td>\n",
       "      <td>8.4983</td>\n",
       "      <td>2.0744</td>\n",
       "      <td>0.66</td>\n",
       "      <td>-3.80</td>\n",
       "    </tr>\n",
       "    <tr>\n",
       "      <th>5</th>\n",
       "      <td>100.00</td>\n",
       "      <td>73777.7373</td>\n",
       "      <td>2.5195</td>\n",
       "      <td>2.0744</td>\n",
       "      <td>0.65</td>\n",
       "      <td>-3.37</td>\n",
       "    </tr>\n",
       "    <tr>\n",
       "      <th>6</th>\n",
       "      <td>1000.00</td>\n",
       "      <td>74363.2804</td>\n",
       "      <td>0.7118</td>\n",
       "      <td>2.0744</td>\n",
       "      <td>0.62</td>\n",
       "      <td>0.10</td>\n",
       "    </tr>\n",
       "    <tr>\n",
       "      <th>7</th>\n",
       "      <td>1000000.00</td>\n",
       "      <td>85565.9420</td>\n",
       "      <td>0.0008</td>\n",
       "      <td>2.0744</td>\n",
       "      <td>0.08</td>\n",
       "      <td>0.08</td>\n",
       "    </tr>\n",
       "  </tbody>\n",
       "</table>\n",
       "</div>"
      ],
      "text/plain": [
       "        alpha  ||Xw - y||^2    ||w||^2  intercept  train score  test score\n",
       "0        0.00    73099.4882  7634.4579     2.0744         0.69       -0.73\n",
       "1        0.01    73113.1963  4239.9359     2.0744         0.69       -0.17\n",
       "2        0.10    73222.8589   888.3987     2.0744         0.68        0.62\n",
       "3        1.00    73437.3112    77.0152     2.0744         0.67        0.02\n",
       "4       10.00    73597.9629     8.4983     2.0744         0.66       -3.80\n",
       "5      100.00    73777.7373     2.5195     2.0744         0.65       -3.37\n",
       "6     1000.00    74363.2804     0.7118     2.0744         0.62        0.10\n",
       "7  1000000.00    85565.9420     0.0008     2.0744         0.08        0.08"
      ]
     },
     "execution_count": 6,
     "metadata": {},
     "output_type": "execute_result"
    }
   ],
   "source": [
    "pd.DataFrame(weight_shrinkage_data)"
   ]
  },
  {
   "cell_type": "markdown",
   "metadata": {},
   "source": [
    "In this example, as `alpha` goes up\n",
    "- $\\lVert Xw - y\\rVert_2^2$ is increasing\n",
    "- $\\lVert w\\rVert_2^2$  is decreasing; weight become smaller and smaller\n",
    "- The intercept stays the same. It's the mean of the target -- dummy model prediction. \n",
    "- We are getting best test score for `alpha=0.10`. \n",
    "- The total loss is worse than OLS but it's helping with generalization. "
   ]
  },
  {
   "cell_type": "markdown",
   "metadata": {},
   "source": [
    "<br><br>"
   ]
  },
  {
   "cell_type": "markdown",
   "metadata": {
    "slideshow": {
     "slide_type": "slide"
    }
   },
   "source": [
    "### The weights become smaller but do not become zero\n",
    "\n",
    "- As `alpha` goes up, we increase the regularization strength. \n",
    "- The weights become smaller and smaller but tend not to become exactly zero. "
   ]
  },
  {
   "cell_type": "code",
   "execution_count": 7,
   "metadata": {},
   "outputs": [],
   "source": [
    "alphas = [0, 0.01, 1, 1000]"
   ]
  },
  {
   "cell_type": "code",
   "execution_count": 8,
   "metadata": {},
   "outputs": [
    {
     "data": {
      "image/png": "[encoded data removed]",
      "text/plain": [
       "<Figure size 600x400 with 1 Axes>"
      ]
     },
     "metadata": {},
     "output_type": "display_data"
    }
   ],
   "source": [
    "plt.figure(figsize=(6, 4))\n",
    "markers = ['o','*', 'v','^']\n",
    "ridge_models = {}\n",
    "for (i, alpha) in enumerate(alphas):\n",
    "    r = Ridge(alpha = alpha)\n",
    "    r.fit(X_train, y_train)\n",
    "    plt.plot(r.coef_, markers[i], markersize=5, label=\"Ridge alpha=\"+ str(alpha))\n",
    "plt.xlabel(\"Coefficient index\")\n",
    "plt.ylabel(\"Coefficient magnitude\")\n",
    "plt.hlines(0, 0, len(r.coef_))\n",
    "plt.ylim(-25, 25)\n",
    "plt.legend(loc=\"best\",fontsize=8);    "
   ]
  },
  {
   "cell_type": "markdown",
   "metadata": {
    "slideshow": {
     "slide_type": "slide"
    }
   },
   "source": [
    "Let's try a very large `alpha` value, which is likely to make weights very small. "
   ]
  },
  {
   "cell_type": "code",
   "execution_count": 9,
   "metadata": {
    "slideshow": {
     "slide_type": "-"
    }
   },
   "outputs": [
    {
     "name": "stdout",
     "output_type": "stream",
     "text": [
      "Total number of features 44\n",
      "Number of non-zero weights:  44\n"
     ]
    }
   ],
   "source": [
    "ridge10000 = Ridge(alpha=10000).fit(X_train, y_train)\n",
    "print(\"Total number of features\", X_train.shape[1])\n",
    "print(\"Number of non-zero weights: \", np.sum(ridge10000.coef_ != 0))"
   ]
  },
  {
   "cell_type": "markdown",
   "metadata": {},
   "source": [
    "All features have non-zero weights. "
   ]
  },
  {
   "cell_type": "markdown",
   "metadata": {},
   "source": [
    "### Regularization path \n",
    "\n",
    "Let's trace the journey of coefficients of a few features with different values of `alpha`. "
   ]
  },
  {
   "cell_type": "code",
   "execution_count": 10,
   "metadata": {},
   "outputs": [],
   "source": [
    "feature_names = pf.get_feature_names_out()"
   ]
  },
  {
   "cell_type": "markdown",
   "metadata": {},
   "source": [
    "Let's examine the coefficients"
   ]
  },
  {
   "cell_type": "code",
   "execution_count": 11,
   "metadata": {
    "tags": []
   },
   "outputs": [],
   "source": [
    "r10 = Ridge(alpha=0.10)\n",
    "r10.fit(X_train, y_train)\n",
    "coefs = (\n",
    "    pd.DataFrame(r10.coef_, feature_names, columns=[\"coef\"])\n",
    "    .query(\"coef != 0\")\n",
    "    .sort_values(\"coef\")\n",
    "    .reset_index()\n",
    "    .rename(columns={\"index\": \"variable\"})\n",
    ")"
   ]
  },
  {
   "cell_type": "code",
   "execution_count": 12,
   "metadata": {},
   "outputs": [
    {
     "data": {
      "text/html": [
       "<style type=\"text/css\">\n",
       "#T_23f4d_row0_col1 {\n",
       "  background-color: #7f3b08;\n",
       "  color: #f1f1f1;\n",
       "}\n",
       "#T_23f4d_row1_col1 {\n",
       "  background-color: #eb9733;\n",
       "  color: #f1f1f1;\n",
       "}\n",
       "#T_23f4d_row2_col1 {\n",
       "  background-color: #f1a242;\n",
       "  color: #000000;\n",
       "}\n",
       "#T_23f4d_row3_col1 {\n",
       "  background-color: #fecf92;\n",
       "  color: #000000;\n",
       "}\n",
       "#T_23f4d_row4_col1 {\n",
       "  background-color: #fee1b9;\n",
       "  color: #000000;\n",
       "}\n",
       "#T_23f4d_row5_col1 {\n",
       "  background-color: #f5f5f6;\n",
       "  color: #000000;\n",
       "}\n",
       "#T_23f4d_row6_col1 {\n",
       "  background-color: #ededf3;\n",
       "  color: #000000;\n",
       "}\n",
       "#T_23f4d_row7_col1 {\n",
       "  background-color: #eaebf2;\n",
       "  color: #000000;\n",
       "}\n",
       "#T_23f4d_row8_col1, #T_23f4d_row9_col1 {\n",
       "  background-color: #e7e8f1;\n",
       "  color: #000000;\n",
       "}\n",
       "#T_23f4d_row10_col1 {\n",
       "  background-color: #e5e7f0;\n",
       "  color: #000000;\n",
       "}\n",
       "#T_23f4d_row11_col1, #T_23f4d_row12_col1 {\n",
       "  background-color: #dadcec;\n",
       "  color: #000000;\n",
       "}\n",
       "#T_23f4d_row13_col1 {\n",
       "  background-color: #d9dbeb;\n",
       "  color: #000000;\n",
       "}\n",
       "#T_23f4d_row14_col1 {\n",
       "  background-color: #d8daeb;\n",
       "  color: #000000;\n",
       "}\n",
       "#T_23f4d_row15_col1 {\n",
       "  background-color: #d7d8ea;\n",
       "  color: #000000;\n",
       "}\n",
       "#T_23f4d_row16_col1, #T_23f4d_row17_col1 {\n",
       "  background-color: #d5d6e9;\n",
       "  color: #000000;\n",
       "}\n",
       "#T_23f4d_row18_col1 {\n",
       "  background-color: #d4d4e8;\n",
       "  color: #000000;\n",
       "}\n",
       "#T_23f4d_row19_col1, #T_23f4d_row20_col1 {\n",
       "  background-color: #d2d3e7;\n",
       "  color: #000000;\n",
       "}\n",
       "#T_23f4d_row21_col1, #T_23f4d_row22_col1 {\n",
       "  background-color: #d1d1e6;\n",
       "  color: #000000;\n",
       "}\n",
       "#T_23f4d_row23_col1 {\n",
       "  background-color: #cfcfe5;\n",
       "  color: #000000;\n",
       "}\n",
       "#T_23f4d_row24_col1 {\n",
       "  background-color: #cecde4;\n",
       "  color: #000000;\n",
       "}\n",
       "#T_23f4d_row25_col1, #T_23f4d_row26_col1 {\n",
       "  background-color: #cccbe3;\n",
       "  color: #000000;\n",
       "}\n",
       "#T_23f4d_row27_col1, #T_23f4d_row28_col1, #T_23f4d_row29_col1 {\n",
       "  background-color: #cbc9e2;\n",
       "  color: #000000;\n",
       "}\n",
       "#T_23f4d_row30_col1 {\n",
       "  background-color: #c9c8e1;\n",
       "  color: #000000;\n",
       "}\n",
       "#T_23f4d_row31_col1, #T_23f4d_row32_col1, #T_23f4d_row33_col1 {\n",
       "  background-color: #c6c4df;\n",
       "  color: #000000;\n",
       "}\n",
       "#T_23f4d_row34_col1 {\n",
       "  background-color: #c3c0dd;\n",
       "  color: #000000;\n",
       "}\n",
       "#T_23f4d_row35_col1 {\n",
       "  background-color: #bcb7d8;\n",
       "  color: #000000;\n",
       "}\n",
       "#T_23f4d_row36_col1 {\n",
       "  background-color: #b1aad1;\n",
       "  color: #000000;\n",
       "}\n",
       "#T_23f4d_row37_col1 {\n",
       "  background-color: #afa8d0;\n",
       "  color: #000000;\n",
       "}\n",
       "#T_23f4d_row38_col1 {\n",
       "  background-color: #9990bf;\n",
       "  color: #f1f1f1;\n",
       "}\n",
       "#T_23f4d_row39_col1 {\n",
       "  background-color: #988dbe;\n",
       "  color: #f1f1f1;\n",
       "}\n",
       "#T_23f4d_row40_col1 {\n",
       "  background-color: #8e82b6;\n",
       "  color: #f1f1f1;\n",
       "}\n",
       "#T_23f4d_row41_col1 {\n",
       "  background-color: #6d529c;\n",
       "  color: #f1f1f1;\n",
       "}\n",
       "#T_23f4d_row42_col1 {\n",
       "  background-color: #41146a;\n",
       "  color: #f1f1f1;\n",
       "}\n",
       "#T_23f4d_row43_col1 {\n",
       "  background-color: #2d004b;\n",
       "  color: #f1f1f1;\n",
       "}\n",
       "</style>\n",
       "<table id=\"T_23f4d\">\n",
       "  <thead>\n",
       "    <tr>\n",
       "      <th class=\"blank level0\" >&nbsp;</th>\n",
       "      <th id=\"T_23f4d_level0_col0\" class=\"col_heading level0 col0\" >variable</th>\n",
       "      <th id=\"T_23f4d_level0_col1\" class=\"col_heading level0 col1\" >coef</th>\n",
       "    </tr>\n",
       "  </thead>\n",
       "  <tbody>\n",
       "    <tr>\n",
       "      <th id=\"T_23f4d_level0_row0\" class=\"row_heading level0 row0\" >0</th>\n",
       "      <td id=\"T_23f4d_row0_col0\" class=\"data row0 col0\" >MedInc Longitude</td>\n",
       "      <td id=\"T_23f4d_row0_col1\" class=\"data row0 col1\" >-16.762873</td>\n",
       "    </tr>\n",
       "    <tr>\n",
       "      <th id=\"T_23f4d_level0_row1\" class=\"row_heading level0 row1\" >1</th>\n",
       "      <td id=\"T_23f4d_row1_col0\" class=\"data row1 col0\" >MedInc</td>\n",
       "      <td id=\"T_23f4d_row1_col1\" class=\"data row1 col1\" >-10.178537</td>\n",
       "    </tr>\n",
       "    <tr>\n",
       "      <th id=\"T_23f4d_level0_row2\" class=\"row_heading level0 row2\" >2</th>\n",
       "      <td id=\"T_23f4d_row2_col0\" class=\"data row2 col0\" >HouseAge Longitude</td>\n",
       "      <td id=\"T_23f4d_row2_col1\" class=\"data row2 col1\" >-9.608717</td>\n",
       "    </tr>\n",
       "    <tr>\n",
       "      <th id=\"T_23f4d_level0_row3\" class=\"row_heading level0 row3\" >3</th>\n",
       "      <td id=\"T_23f4d_row3_col0\" class=\"data row3 col0\" >HouseAge</td>\n",
       "      <td id=\"T_23f4d_row3_col1\" class=\"data row3 col1\" >-6.986869</td>\n",
       "    </tr>\n",
       "    <tr>\n",
       "      <th id=\"T_23f4d_level0_row4\" class=\"row_heading level0 row4\" >4</th>\n",
       "      <td id=\"T_23f4d_row4_col0\" class=\"data row4 col0\" >MedInc Latitude</td>\n",
       "      <td id=\"T_23f4d_row4_col1\" class=\"data row4 col1\" >-5.683734</td>\n",
       "    </tr>\n",
       "    <tr>\n",
       "      <th id=\"T_23f4d_level0_row5\" class=\"row_heading level0 row5\" >5</th>\n",
       "      <td id=\"T_23f4d_row5_col0\" class=\"data row5 col0\" >HouseAge Latitude</td>\n",
       "      <td id=\"T_23f4d_row5_col1\" class=\"data row5 col1\" >-2.931366</td>\n",
       "    </tr>\n",
       "    <tr>\n",
       "      <th id=\"T_23f4d_level0_row6\" class=\"row_heading level0 row6\" >6</th>\n",
       "      <td id=\"T_23f4d_row6_col0\" class=\"data row6 col0\" >AveBedrms Longitude</td>\n",
       "      <td id=\"T_23f4d_row6_col1\" class=\"data row6 col1\" >-2.152434</td>\n",
       "    </tr>\n",
       "    <tr>\n",
       "      <th id=\"T_23f4d_level0_row7\" class=\"row_heading level0 row7\" >7</th>\n",
       "      <td id=\"T_23f4d_row7_col0\" class=\"data row7 col0\" >AveBedrms Latitude</td>\n",
       "      <td id=\"T_23f4d_row7_col1\" class=\"data row7 col1\" >-1.934514</td>\n",
       "    </tr>\n",
       "    <tr>\n",
       "      <th id=\"T_23f4d_level0_row8\" class=\"row_heading level0 row8\" >8</th>\n",
       "      <td id=\"T_23f4d_row8_col0\" class=\"data row8 col0\" >Longitude</td>\n",
       "      <td id=\"T_23f4d_row8_col1\" class=\"data row8 col1\" >-1.637599</td>\n",
       "    </tr>\n",
       "    <tr>\n",
       "      <th id=\"T_23f4d_level0_row9\" class=\"row_heading level0 row9\" >9</th>\n",
       "      <td id=\"T_23f4d_row9_col0\" class=\"data row9 col0\" >AveRooms AveBedrms</td>\n",
       "      <td id=\"T_23f4d_row9_col1\" class=\"data row9 col1\" >-1.571689</td>\n",
       "    </tr>\n",
       "    <tr>\n",
       "      <th id=\"T_23f4d_level0_row10\" class=\"row_heading level0 row10\" >10</th>\n",
       "      <td id=\"T_23f4d_row10_col0\" class=\"data row10 col0\" >AveBedrms AveOccup</td>\n",
       "      <td id=\"T_23f4d_row10_col1\" class=\"data row10 col1\" >-1.536152</td>\n",
       "    </tr>\n",
       "    <tr>\n",
       "      <th id=\"T_23f4d_level0_row11\" class=\"row_heading level0 row11\" >11</th>\n",
       "      <td id=\"T_23f4d_row11_col0\" class=\"data row11 col0\" >MedInc^2</td>\n",
       "      <td id=\"T_23f4d_row11_col1\" class=\"data row11 col1\" >-0.540772</td>\n",
       "    </tr>\n",
       "    <tr>\n",
       "      <th id=\"T_23f4d_level0_row12\" class=\"row_heading level0 row12\" >12</th>\n",
       "      <td id=\"T_23f4d_row12_col0\" class=\"data row12 col0\" >AveRooms Population</td>\n",
       "      <td id=\"T_23f4d_row12_col1\" class=\"data row12 col1\" >-0.518624</td>\n",
       "    </tr>\n",
       "    <tr>\n",
       "      <th id=\"T_23f4d_level0_row13\" class=\"row_heading level0 row13\" >13</th>\n",
       "      <td id=\"T_23f4d_row13_col0\" class=\"data row13 col0\" >HouseAge AveOccup</td>\n",
       "      <td id=\"T_23f4d_row13_col1\" class=\"data row13 col1\" >-0.414707</td>\n",
       "    </tr>\n",
       "    <tr>\n",
       "      <th id=\"T_23f4d_level0_row14\" class=\"row_heading level0 row14\" >14</th>\n",
       "      <td id=\"T_23f4d_row14_col0\" class=\"data row14 col0\" >HouseAge AveRooms</td>\n",
       "      <td id=\"T_23f4d_row14_col1\" class=\"data row14 col1\" >-0.376728</td>\n",
       "    </tr>\n",
       "    <tr>\n",
       "      <th id=\"T_23f4d_level0_row15\" class=\"row_heading level0 row15\" >15</th>\n",
       "      <td id=\"T_23f4d_row15_col0\" class=\"data row15 col0\" >MedInc AveBedrms</td>\n",
       "      <td id=\"T_23f4d_row15_col1\" class=\"data row15 col1\" >-0.280714</td>\n",
       "    </tr>\n",
       "    <tr>\n",
       "      <th id=\"T_23f4d_level0_row16\" class=\"row_heading level0 row16\" >16</th>\n",
       "      <td id=\"T_23f4d_row16_col0\" class=\"data row16 col0\" >Population</td>\n",
       "      <td id=\"T_23f4d_row16_col1\" class=\"data row16 col1\" >-0.106295</td>\n",
       "    </tr>\n",
       "    <tr>\n",
       "      <th id=\"T_23f4d_level0_row17\" class=\"row_heading level0 row17\" >17</th>\n",
       "      <td id=\"T_23f4d_row17_col0\" class=\"data row17 col0\" >MedInc AveOccup</td>\n",
       "      <td id=\"T_23f4d_row17_col1\" class=\"data row17 col1\" >-0.072894</td>\n",
       "    </tr>\n",
       "    <tr>\n",
       "      <th id=\"T_23f4d_level0_row18\" class=\"row_heading level0 row18\" >18</th>\n",
       "      <td id=\"T_23f4d_row18_col0\" class=\"data row18 col0\" >AveBedrms</td>\n",
       "      <td id=\"T_23f4d_row18_col1\" class=\"data row18 col1\" >-0.067099</td>\n",
       "    </tr>\n",
       "    <tr>\n",
       "      <th id=\"T_23f4d_level0_row19\" class=\"row_heading level0 row19\" >19</th>\n",
       "      <td id=\"T_23f4d_row19_col0\" class=\"data row19 col0\" >Population^2</td>\n",
       "      <td id=\"T_23f4d_row19_col1\" class=\"data row19 col1\" >0.050877</td>\n",
       "    </tr>\n",
       "    <tr>\n",
       "      <th id=\"T_23f4d_level0_row20\" class=\"row_heading level0 row20\" >20</th>\n",
       "      <td id=\"T_23f4d_row20_col0\" class=\"data row20 col0\" >HouseAge Population</td>\n",
       "      <td id=\"T_23f4d_row20_col1\" class=\"data row20 col1\" >0.076735</td>\n",
       "    </tr>\n",
       "    <tr>\n",
       "      <th id=\"T_23f4d_level0_row21\" class=\"row_heading level0 row21\" >21</th>\n",
       "      <td id=\"T_23f4d_row21_col0\" class=\"data row21 col0\" >AveOccup^2</td>\n",
       "      <td id=\"T_23f4d_row21_col1\" class=\"data row21 col1\" >0.177787</td>\n",
       "    </tr>\n",
       "    <tr>\n",
       "      <th id=\"T_23f4d_level0_row22\" class=\"row_heading level0 row22\" >22</th>\n",
       "      <td id=\"T_23f4d_row22_col0\" class=\"data row22 col0\" >HouseAge^2</td>\n",
       "      <td id=\"T_23f4d_row22_col1\" class=\"data row22 col1\" >0.197444</td>\n",
       "    </tr>\n",
       "    <tr>\n",
       "      <th id=\"T_23f4d_level0_row23\" class=\"row_heading level0 row23\" >23</th>\n",
       "      <td id=\"T_23f4d_row23_col0\" class=\"data row23 col0\" >MedInc HouseAge</td>\n",
       "      <td id=\"T_23f4d_row23_col1\" class=\"data row23 col1\" >0.292222</td>\n",
       "    </tr>\n",
       "    <tr>\n",
       "      <th id=\"T_23f4d_level0_row24\" class=\"row_heading level0 row24\" >24</th>\n",
       "      <td id=\"T_23f4d_row24_col0\" class=\"data row24 col0\" >MedInc Population</td>\n",
       "      <td id=\"T_23f4d_row24_col1\" class=\"data row24 col1\" >0.358598</td>\n",
       "    </tr>\n",
       "    <tr>\n",
       "      <th id=\"T_23f4d_level0_row25\" class=\"row_heading level0 row25\" >25</th>\n",
       "      <td id=\"T_23f4d_row25_col0\" class=\"data row25 col0\" >HouseAge AveBedrms</td>\n",
       "      <td id=\"T_23f4d_row25_col1\" class=\"data row25 col1\" >0.495107</td>\n",
       "    </tr>\n",
       "    <tr>\n",
       "      <th id=\"T_23f4d_level0_row26\" class=\"row_heading level0 row26\" >26</th>\n",
       "      <td id=\"T_23f4d_row26_col0\" class=\"data row26 col0\" >MedInc AveRooms</td>\n",
       "      <td id=\"T_23f4d_row26_col1\" class=\"data row26 col1\" >0.544633</td>\n",
       "    </tr>\n",
       "    <tr>\n",
       "      <th id=\"T_23f4d_level0_row27\" class=\"row_heading level0 row27\" >27</th>\n",
       "      <td id=\"T_23f4d_row27_col0\" class=\"data row27 col0\" >Population Latitude</td>\n",
       "      <td id=\"T_23f4d_row27_col1\" class=\"data row27 col1\" >0.573911</td>\n",
       "    </tr>\n",
       "    <tr>\n",
       "      <th id=\"T_23f4d_level0_row28\" class=\"row_heading level0 row28\" >28</th>\n",
       "      <td id=\"T_23f4d_row28_col0\" class=\"data row28 col0\" >Population AveOccup</td>\n",
       "      <td id=\"T_23f4d_row28_col1\" class=\"data row28 col1\" >0.603423</td>\n",
       "    </tr>\n",
       "    <tr>\n",
       "      <th id=\"T_23f4d_level0_row29\" class=\"row_heading level0 row29\" >29</th>\n",
       "      <td id=\"T_23f4d_row29_col0\" class=\"data row29 col0\" >AveBedrms^2</td>\n",
       "      <td id=\"T_23f4d_row29_col1\" class=\"data row29 col1\" >0.620403</td>\n",
       "    </tr>\n",
       "    <tr>\n",
       "      <th id=\"T_23f4d_level0_row30\" class=\"row_heading level0 row30\" >30</th>\n",
       "      <td id=\"T_23f4d_row30_col0\" class=\"data row30 col0\" >AveBedrms Population</td>\n",
       "      <td id=\"T_23f4d_row30_col1\" class=\"data row30 col1\" >0.780217</td>\n",
       "    </tr>\n",
       "    <tr>\n",
       "      <th id=\"T_23f4d_level0_row31\" class=\"row_heading level0 row31\" >31</th>\n",
       "      <td id=\"T_23f4d_row31_col0\" class=\"data row31 col0\" >AveRooms</td>\n",
       "      <td id=\"T_23f4d_row31_col1\" class=\"data row31 col1\" >0.908226</td>\n",
       "    </tr>\n",
       "    <tr>\n",
       "      <th id=\"T_23f4d_level0_row32\" class=\"row_heading level0 row32\" >32</th>\n",
       "      <td id=\"T_23f4d_row32_col0\" class=\"data row32 col0\" >AveRooms^2</td>\n",
       "      <td id=\"T_23f4d_row32_col1\" class=\"data row32 col1\" >0.940577</td>\n",
       "    </tr>\n",
       "    <tr>\n",
       "      <th id=\"T_23f4d_level0_row33\" class=\"row_heading level0 row33\" >33</th>\n",
       "      <td id=\"T_23f4d_row33_col0\" class=\"data row33 col0\" >Longitude^2</td>\n",
       "      <td id=\"T_23f4d_row33_col1\" class=\"data row33 col1\" >0.944154</td>\n",
       "    </tr>\n",
       "    <tr>\n",
       "      <th id=\"T_23f4d_level0_row34\" class=\"row_heading level0 row34\" >34</th>\n",
       "      <td id=\"T_23f4d_row34_col0\" class=\"data row34 col0\" >Population Longitude</td>\n",
       "      <td id=\"T_23f4d_row34_col1\" class=\"data row34 col1\" >1.199605</td>\n",
       "    </tr>\n",
       "    <tr>\n",
       "      <th id=\"T_23f4d_level0_row35\" class=\"row_heading level0 row35\" >35</th>\n",
       "      <td id=\"T_23f4d_row35_col0\" class=\"data row35 col0\" >AveRooms AveOccup</td>\n",
       "      <td id=\"T_23f4d_row35_col1\" class=\"data row35 col1\" >1.697423</td>\n",
       "    </tr>\n",
       "    <tr>\n",
       "      <th id=\"T_23f4d_level0_row36\" class=\"row_heading level0 row36\" >36</th>\n",
       "      <td id=\"T_23f4d_row36_col0\" class=\"data row36 col0\" >AveOccup</td>\n",
       "      <td id=\"T_23f4d_row36_col1\" class=\"data row36 col1\" >2.478821</td>\n",
       "    </tr>\n",
       "    <tr>\n",
       "      <th id=\"T_23f4d_level0_row37\" class=\"row_heading level0 row37\" >37</th>\n",
       "      <td id=\"T_23f4d_row37_col0\" class=\"data row37 col0\" >AveRooms Latitude</td>\n",
       "      <td id=\"T_23f4d_row37_col1\" class=\"data row37 col1\" >2.523284</td>\n",
       "    </tr>\n",
       "    <tr>\n",
       "      <th id=\"T_23f4d_level0_row38\" class=\"row_heading level0 row38\" >38</th>\n",
       "      <td id=\"T_23f4d_row38_col0\" class=\"data row38 col0\" >AveRooms Longitude</td>\n",
       "      <td id=\"T_23f4d_row38_col1\" class=\"data row38 col1\" >3.693662</td>\n",
       "    </tr>\n",
       "    <tr>\n",
       "      <th id=\"T_23f4d_level0_row39\" class=\"row_heading level0 row39\" >39</th>\n",
       "      <td id=\"T_23f4d_row39_col0\" class=\"data row39 col0\" >Latitude</td>\n",
       "      <td id=\"T_23f4d_row39_col1\" class=\"data row39 col1\" >3.830685</td>\n",
       "    </tr>\n",
       "    <tr>\n",
       "      <th id=\"T_23f4d_level0_row40\" class=\"row_heading level0 row40\" >40</th>\n",
       "      <td id=\"T_23f4d_row40_col0\" class=\"data row40 col0\" >Latitude^2</td>\n",
       "      <td id=\"T_23f4d_row40_col1\" class=\"data row40 col1\" >4.330258</td>\n",
       "    </tr>\n",
       "    <tr>\n",
       "      <th id=\"T_23f4d_level0_row41\" class=\"row_heading level0 row41\" >41</th>\n",
       "      <td id=\"T_23f4d_row41_col0\" class=\"data row41 col0\" >AveOccup Latitude</td>\n",
       "      <td id=\"T_23f4d_row41_col1\" class=\"data row41 col1\" >6.270548</td>\n",
       "    </tr>\n",
       "    <tr>\n",
       "      <th id=\"T_23f4d_level0_row42\" class=\"row_heading level0 row42\" >42</th>\n",
       "      <td id=\"T_23f4d_row42_col0\" class=\"data row42 col0\" >AveOccup Longitude</td>\n",
       "      <td id=\"T_23f4d_row42_col1\" class=\"data row42 col1\" >9.143782</td>\n",
       "    </tr>\n",
       "    <tr>\n",
       "      <th id=\"T_23f4d_level0_row43\" class=\"row_heading level0 row43\" >43</th>\n",
       "      <td id=\"T_23f4d_row43_col0\" class=\"data row43 col0\" >Latitude Longitude</td>\n",
       "      <td id=\"T_23f4d_row43_col1\" class=\"data row43 col1\" >10.627639</td>\n",
       "    </tr>\n",
       "  </tbody>\n",
       "</table>\n"
      ],
      "text/plain": [
       "<pandas.io.formats.style.Styler at 0x14124afe0>"
      ]
     },
     "execution_count": 12,
     "metadata": {},
     "output_type": "execute_result"
    }
   ],
   "source": [
    "coefs.style.background_gradient('PuOr')"
   ]
  },
  {
   "cell_type": "code",
   "execution_count": 13,
   "metadata": {},
   "outputs": [],
   "source": [
    "feats = ['MedInc', 'AveBedrms',  'Population', 'MedInc Longitude', 'Population Longitude', 'Latitude Longitude']"
   ]
  },
  {
   "cell_type": "code",
   "execution_count": 14,
   "metadata": {},
   "outputs": [],
   "source": [
    "msk = [feat in feats for feat in feature_names]"
   ]
  },
  {
   "cell_type": "code",
   "execution_count": 45,
   "metadata": {},
   "outputs": [],
   "source": [
    "#feature_names"
   ]
  },
  {
   "cell_type": "code",
   "execution_count": 16,
   "metadata": {},
   "outputs": [
    {
     "data": {
      "text/plain": [
       "array([-10.17853657,  -0.06709887,  -0.10629543, -16.7628735 ,\n",
       "         1.19960525,  10.6276393 ])"
      ]
     },
     "execution_count": 16,
     "metadata": {},
     "output_type": "execute_result"
    }
   ],
   "source": [
    "r10.coef_[msk]"
   ]
  },
  {
   "cell_type": "code",
   "execution_count": 17,
   "metadata": {},
   "outputs": [
    {
     "data": {
      "image/png": "[encoded data removed]",
      "text/plain": [
       "<Figure size 640x480 with 1 Axes>"
      ]
     },
     "metadata": {},
     "output_type": "display_data"
    }
   ],
   "source": [
    "# Attribution: Code adapted from here: https://scikit-learn.org/stable/auto_examples/linear_model/plot_ridge_path.html\n",
    "import numpy as np\n",
    "import matplotlib.pyplot as plt\n",
    "from sklearn import linear_model\n",
    "\n",
    "n_alphas = 200\n",
    "alphas = np.logspace(-3, 3, n_alphas)\n",
    "\n",
    "coefs = []\n",
    "for a in alphas:\n",
    "    ridge = linear_model.Ridge(alpha=a, fit_intercept=False)\n",
    "    ridge.fit(X_train, y_train)\n",
    "    coefs.append(ridge.coef_[msk])\n",
    "    \n",
    "ax = plt.gca()\n",
    "ax.plot(alphas, coefs)\n",
    "\n",
    "ax.set_xscale(\"log\")\n",
    "#ax.set_xlim(ax.get_xlim()[::-1])  # reverse axis\n",
    "plt.xlabel(\"alpha\")\n",
    "plt.ylabel(\"weights\")\n",
    "plt.title(\"Ridge coefficients as a function of the regularization\")\n",
    "plt.axis(\"tight\")\n",
    "ax.legend(feats, loc=\"best\", fontsize=11)\n",
    "plt.show()"
   ]
  },
  {
   "cell_type": "markdown",
   "metadata": {
    "slideshow": {
     "slide_type": "slide"
    }
   },
   "source": [
    "The coefficients are very close to zero but not exactly zero. That said, they won't have much impact on prediction. "
   ]
  },
  {
   "cell_type": "markdown",
   "metadata": {},
   "source": [
    "<br><br>"
   ]
  },
  {
   "cell_type": "markdown",
   "metadata": {
    "slideshow": {
     "slide_type": "slide"
    }
   },
   "source": [
    "### Regularization learning curves"
   ]
  },
  {
   "cell_type": "code",
   "execution_count": 18,
   "metadata": {},
   "outputs": [
    {
     "data": {
      "image/png": "[encoded data removed]",
      "text/plain": [
       "<Figure size 640x480 with 1 Axes>"
      ]
     },
     "metadata": {},
     "output_type": "display_data"
    }
   ],
   "source": [
    "plot_learning_curve(Ridge(alpha=0.01), X_train, y_train)\n",
    "plot_learning_curve(Ridge(alpha=10.0), X_train, y_train)"
   ]
  },
  {
   "cell_type": "markdown",
   "metadata": {
    "slideshow": {
     "slide_type": "-"
    }
   },
   "source": [
    "- As one would expect, the training score is higher than the test score for all dataset sizes\n",
    "- Training score of `Ridge` with `alpha=0.01` > Training score of `Ridge` with `alpha=10` (more regularization)\n",
    "- However, the test score of `Ridge` with `alpha=10` > Test score of `Ridge` with `alpha=0.01` for smaller training sizes. \n",
    "- As more and more data becomes available to the model, both models improve. Ridge with less regularization catches up with ridge with more regularization and actually performs better. "
   ]
  },
  {
   "cell_type": "markdown",
   "metadata": {
    "slideshow": {
     "slide_type": "skip"
    }
   },
   "source": [
    "### How to pick $\\lambda$? \n",
    "\n",
    "- Theory: as $n$ grows $\\lambda$ should be in the range $O(1)$ to $\\sqrt{n}$.\n",
    "- Practice: optimize validation set or cross-validation error.\n",
    "    - Almost always decreases the test error."
   ]
  },
  {
   "cell_type": "markdown",
   "metadata": {
    "slideshow": {
     "slide_type": "skip"
    }
   },
   "source": [
    "### (Optional) Should we regularize the y-intercept?\n",
    "\n",
    "- No! \n",
    "    - Why encourage it to be closer to zero? (It could be anywhere.)\n",
    "    - You should be allowed to shift function up/down globally.\n",
    "- Yes! \n",
    "    - Useful for optimization; It makes the solution unique and it easier to compute $w$    \n",
    "- Compromise: regularize by a smaller amount than other variables.\n",
    "    $$f(w) = \\lVert Xw + w_0 - y\\rVert^2 + \\frac{\\lambda_1}{2}\\lVert w\\rVert^2 + \\frac{\\lambda_2}{2}w_0^2$$  "
   ]
  },
  {
   "cell_type": "markdown",
   "metadata": {
    "slideshow": {
     "slide_type": "slide"
    }
   },
   "source": [
    "### Some properties of L2-regularization\n",
    "\n",
    "1. Solution $w$ is unique. It has to do with the smoothness of the function. \n",
    "    - We are not going into mathematical details. If interested see [slide 20](https://www.cs.ubc.ca/~schmidtm/Courses/340-F19/L17.pdf) from CPSC 340.\n",
    "2. **Almost always improves the validation error.** \n",
    "3. No collinearity issues.\n",
    "4. Less sensitive to changes in $X$.\n",
    "5. Gradient descent (optimization algorithm) converges faster (bigger $\\lambda$ means fewer iterations). (You'll learn about Grafient descent in 572.)\n",
    "6. Worst case: just set $\\lambda$ small and get the same performance"
   ]
  },
  {
   "cell_type": "markdown",
   "metadata": {
    "slideshow": {
     "slide_type": "slide"
    }
   },
   "source": [
    "### Summary: L2-regularization \n",
    "\n",
    "- Change the loss function by adding a continuous L2-penalty on the model complexity. \n",
    "- Best parameter $\\lambda$ almost already leads to improved validation error.\n",
    "    - L2-regularized least squares is also called \"ridge regression\". \n",
    "    - Can be solved as a linear system like least squares.\n",
    "- Some benefits of L2 regularization  \n",
    "    - Solution is unique.\n",
    "    - Less sensitive to data.\n",
    "    - Fast. "
   ]
  },
  {
   "cell_type": "markdown",
   "metadata": {
    "slideshow": {
     "slide_type": "slide"
    }
   },
   "source": [
    "## ❓❓ Questions for you (recap)"
   ]
  },
  {
   "cell_type": "markdown",
   "metadata": {
    "slideshow": {
     "slide_type": "slide"
    },
    "tags": []
   },
   "source": [
    "### iClicker Exercise 6.1 \n",
    "\n",
    "**iClicker cloud join link: https://join.iclicker.com/C0P55**\n",
    "\n",
    "**Select all of the following statements which are TRUE.**\n",
    "\n",
    "- (A) Introducing L2 regularization to the model means making it less sensitive to changes in $X$.\n",
    "- (B) Introducing L2 regularization to the model can results in worse performance on the training set. \n",
    "- (C) L2 regularization shrinks the weights but all $w_j$s tend to be non-zero.\n",
    "\n",
    "**V's answers: A, B, C**"
   ]
  },
  {
   "cell_type": "markdown",
   "metadata": {
    "slideshow": {
     "slide_type": "slide"
    }
   },
   "source": [
    "### Break (~5 mins)\n",
    "\n",
    "![](img/eva-coffee.png)\n"
   ]
  },
  {
   "cell_type": "markdown",
   "metadata": {
    "slideshow": {
     "slide_type": "slide"
    }
   },
   "source": [
    "## L1 regularization"
   ]
  },
  {
   "cell_type": "markdown",
   "metadata": {},
   "source": [
    "- An alternative to `Ridge` (L2-regularization for least squares) is `Lasso`.\n",
    "- Instead of L0- or L2-norm, regularize with L1-norm. \n",
    "\n",
    "$$f(w) = \\sum_i^n(w^TX_i - y_i)^2 + \\lambda\\sum_j^d \\lvert w_j \\lvert\\text{ or }$$ \n",
    "$$f(w) = \\lVert Xw - y\\rVert_2^2 + \\lambda \\lVert w\\rVert_1$$\n",
    "\n",
    "\n",
    "- $\\lambda \\rightarrow$ regularization strength\n",
    "- $\\lVert w\\rVert_1 \\rightarrow$  L1-norm of $w$  \n",
    "- Objective balances getting low error vs. having small values for $w_j$\n"
   ]
  },
  {
   "cell_type": "markdown",
   "metadata": {
    "slideshow": {
     "slide_type": "slide"
    }
   },
   "source": [
    "### Similarities with L2-regularization\n",
    "\n",
    "- L1-regularization \n",
    "$$f(w) = \\lVert Xw - y\\rVert_2^2 + \\lambda \\lVert w\\rVert_1$$\n",
    "\n",
    "- L2-regularization \n",
    "$$f(w) = \\lVert Xw - y\\rVert_2^2 + \\lambda \\lVert w\\rVert_2^2$$\n",
    "\n",
    "- Both shrink weights.\n",
    "- Both result in lower validation error. "
   ]
  },
  {
   "cell_type": "markdown",
   "metadata": {},
   "source": [
    "**Do not confuse the L1 loss (absolute loss) with L1-regularization!**"
   ]
  },
  {
   "cell_type": "markdown",
   "metadata": {
    "slideshow": {
     "slide_type": "slide"
    }
   },
   "source": [
    "### Terminology and notation: Ridge and Lasso\n",
    "\n",
    "- Linear regression model that uses L2 regularization is called **Ridge** or Tikhonov regularization.\n",
    "    - [`scikit-learn` Ridge](https://scikit-learn.org/stable/modules/generated/sklearn.linear_model.Ridge.html?highlight=ridge#sklearn.linear_model.Ridge)\n",
    "- Linear regression model that uses L1 regularization is called **Lasso**. \n",
    "    - [`scikit-learn` Lasso](https://scikit-learn.org/stable/modules/generated/sklearn.linear_model.Lasso.html?highlight=lasso)\n",
    "    > class sklearn.linear_model.Lasso(alpha=1.0, fit_intercept=True, normalize=False, precompute=False, copy_X=True, max_iter=1000, tol=0.0001, warm_start=False, positive=False, random_state=None, selection='cyclic')\n",
    "\n"
   ]
  },
  {
   "cell_type": "markdown",
   "metadata": {
    "slideshow": {
     "slide_type": "slide"
    }
   },
   "source": [
    "### L1-regularization \n",
    "\n",
    "- The consequence of using L1-norm is that some features are exactly zero, which means that the features are entirely ignored by the model. \n",
    "- This can be considered as a form of feature selection!! \n",
    "- L1-regularization simultaneously regularizes and selects features.\n",
    "- Very fast alternative to search and score methods"
   ]
  },
  {
   "cell_type": "markdown",
   "metadata": {
    "slideshow": {
     "slide_type": "slide"
    }
   },
   "source": [
    "Let's apply `Lasso` on the California housing data. "
   ]
  },
  {
   "cell_type": "code",
   "execution_count": 19,
   "metadata": {},
   "outputs": [
    {
     "data": {
      "text/plain": [
       "(15480, 44)"
      ]
     },
     "execution_count": 19,
     "metadata": {},
     "output_type": "execute_result"
    }
   ],
   "source": [
    "X_train.shape"
   ]
  },
  {
   "cell_type": "code",
   "execution_count": 20,
   "metadata": {},
   "outputs": [
    {
     "name": "stdout",
     "output_type": "stream",
     "text": [
      "Training set score: 0.00\n",
      "Test set score: -0.00\n",
      "Number of features used: 0\n"
     ]
    }
   ],
   "source": [
    "from sklearn.linear_model import Lasso\n",
    "\n",
    "lasso = Lasso().fit(X_train, y_train)\n",
    "print(\"Training set score: {:.2f}\".format(lasso.score(X_train, y_train)))\n",
    "print(\"Test set score: {:.2f}\".format(lasso.score(X_test, y_test)))\n",
    "print(\"Number of features used:\", np.sum(lasso.coef_ != 0))"
   ]
  },
  {
   "cell_type": "markdown",
   "metadata": {
    "slideshow": {
     "slide_type": "-"
    }
   },
   "source": [
    "- That's strange. It's not using any features -- like dummy model. It's underfitting. \n",
    "- Similar to `Ridge` it also has a regularization hyperparameter `alpha`. \n",
    "- Let's decrease it to reduce underfitting. "
   ]
  },
  {
   "cell_type": "markdown",
   "metadata": {},
   "source": [
    "- Let's examine weight shrinkage for l1 regularization \n",
    "- Lasso loss is not a smooth function. \n",
    "- Slower compared to Ridge. "
   ]
  },
  {
   "cell_type": "code",
   "execution_count": 21,
   "metadata": {},
   "outputs": [
    {
     "name": "stdout",
     "output_type": "stream",
     "text": [
      "alpha:  0\n"
     ]
    },
    {
     "name": "stderr",
     "output_type": "stream",
     "text": [
      "/var/folders/b3/g26r0dcx4b35vf3nk31216hc0000gr/T/ipykernel_27748/2689048393.py:8: UserWarning: With alpha=0, this algorithm does not converge well. You are advised to use the LinearRegression estimator\n",
      "  l.fit(X_train, y_train)\n",
      "/Users/kvarada/opt/miniconda3/envs/573/lib/python3.10/site-packages/sklearn/linear_model/_coordinate_descent.py:648: UserWarning: Coordinate descent with no regularization may lead to unexpected results and is discouraged.\n",
      "  model = cd_fast.enet_coordinate_descent(\n",
      "/Users/kvarada/opt/miniconda3/envs/573/lib/python3.10/site-packages/sklearn/linear_model/_coordinate_descent.py:648: ConvergenceWarning: Objective did not converge. You might want to increase the number of iterations, check the scale of the features or consider increasing regularisation. Duality gap: 3.394e+03, tolerance: 2.066e+00 Linear regression models with null weight for the l1 regularization term are more efficiently fitted using one of the solvers implemented in sklearn.linear_model.Ridge/RidgeCV instead.\n",
      "  model = cd_fast.enet_coordinate_descent(\n"
     ]
    },
    {
     "name": "stdout",
     "output_type": "stream",
     "text": [
      "alpha:  0.0001\n"
     ]
    },
    {
     "name": "stderr",
     "output_type": "stream",
     "text": [
      "/Users/kvarada/opt/miniconda3/envs/573/lib/python3.10/site-packages/sklearn/linear_model/_coordinate_descent.py:648: ConvergenceWarning: Objective did not converge. You might want to increase the number of iterations, check the scale of the features or consider increasing regularisation. Duality gap: 1.778e+03, tolerance: 2.066e+00\n",
      "  model = cd_fast.enet_coordinate_descent(\n"
     ]
    },
    {
     "name": "stdout",
     "output_type": "stream",
     "text": [
      "alpha:  0.01\n",
      "alpha:  0.1\n",
      "alpha:  1\n"
     ]
    }
   ],
   "source": [
    "from numpy.linalg import norm\n",
    "alphas = [0, 0.0001, 0.01, 0.1, 1]\n",
    "weight_shrinkage_data = {'alpha':[], '||Xw - y||^2':[], '||w||_1':[], 'intercept':[], 'train score':[], 'test score':[]}\n",
    "\n",
    "for (i, alpha) in enumerate(alphas): \n",
    "    print('alpha: ', alpha)\n",
    "    l = Lasso(alpha=alpha, max_iter=10000) \n",
    "    l.fit(X_train, y_train)\n",
    "    weight_shrinkage_data['alpha'].append(alpha)\n",
    "    OLS = np.round(lr_loss_squared(l.coef_, X_train, y_train), 4)\n",
    "    l1_term = np.round(norm(r.coef_, 1), 4)\n",
    "    intercept = np.round(l.intercept_, 4)\n",
    "    weight_shrinkage_data['||Xw - y||^2'].append(OLS)\n",
    "    weight_shrinkage_data['||w||_1'].append(l1_term)\n",
    "    weight_shrinkage_data['intercept'].append(intercept)\n",
    "    weight_shrinkage_data['train score'].append(np.round(l.score(X_train, y_train), 2))\n",
    "    weight_shrinkage_data['test score'].append(np.round(l.score(X_test, y_test), 2))"
   ]
  },
  {
   "cell_type": "code",
   "execution_count": 22,
   "metadata": {},
   "outputs": [
    {
     "data": {
      "text/html": [
       "<div>\n",
       "<style scoped>\n",
       "    .dataframe tbody tr th:only-of-type {\n",
       "        vertical-align: middle;\n",
       "    }\n",
       "\n",
       "    .dataframe tbody tr th {\n",
       "        vertical-align: top;\n",
       "    }\n",
       "\n",
       "    .dataframe thead th {\n",
       "        text-align: right;\n",
       "    }\n",
       "</style>\n",
       "<table border=\"1\" class=\"dataframe\">\n",
       "  <thead>\n",
       "    <tr style=\"text-align: right;\">\n",
       "      <th></th>\n",
       "      <th>alpha</th>\n",
       "      <th>||Xw - y||^2</th>\n",
       "      <th>||w||_1</th>\n",
       "      <th>intercept</th>\n",
       "      <th>train score</th>\n",
       "      <th>test score</th>\n",
       "    </tr>\n",
       "  </thead>\n",
       "  <tbody>\n",
       "    <tr>\n",
       "      <th>0</th>\n",
       "      <td>0.0000</td>\n",
       "      <td>73398.6742</td>\n",
       "      <td>4.3674</td>\n",
       "      <td>2.0744</td>\n",
       "      <td>0.67</td>\n",
       "      <td>0.52</td>\n",
       "    </tr>\n",
       "    <tr>\n",
       "      <th>1</th>\n",
       "      <td>0.0001</td>\n",
       "      <td>73462.0080</td>\n",
       "      <td>4.3674</td>\n",
       "      <td>2.0744</td>\n",
       "      <td>0.67</td>\n",
       "      <td>0.20</td>\n",
       "    </tr>\n",
       "    <tr>\n",
       "      <th>2</th>\n",
       "      <td>0.0100</td>\n",
       "      <td>74463.3147</td>\n",
       "      <td>4.3674</td>\n",
       "      <td>2.0744</td>\n",
       "      <td>0.62</td>\n",
       "      <td>0.33</td>\n",
       "    </tr>\n",
       "    <tr>\n",
       "      <th>3</th>\n",
       "      <td>0.1000</td>\n",
       "      <td>76723.2012</td>\n",
       "      <td>4.3674</td>\n",
       "      <td>2.0744</td>\n",
       "      <td>0.51</td>\n",
       "      <td>0.48</td>\n",
       "    </tr>\n",
       "    <tr>\n",
       "      <th>4</th>\n",
       "      <td>1.0000</td>\n",
       "      <td>87271.1329</td>\n",
       "      <td>4.3674</td>\n",
       "      <td>2.0744</td>\n",
       "      <td>0.00</td>\n",
       "      <td>-0.00</td>\n",
       "    </tr>\n",
       "  </tbody>\n",
       "</table>\n",
       "</div>"
      ],
      "text/plain": [
       "    alpha  ||Xw - y||^2  ||w||_1  intercept  train score  test score\n",
       "0  0.0000    73398.6742   4.3674     2.0744         0.67        0.52\n",
       "1  0.0001    73462.0080   4.3674     2.0744         0.67        0.20\n",
       "2  0.0100    74463.3147   4.3674     2.0744         0.62        0.33\n",
       "3  0.1000    76723.2012   4.3674     2.0744         0.51        0.48\n",
       "4  1.0000    87271.1329   4.3674     2.0744         0.00       -0.00"
      ]
     },
     "execution_count": 22,
     "metadata": {},
     "output_type": "execute_result"
    }
   ],
   "source": [
    "pd.DataFrame(weight_shrinkage_data)"
   ]
  },
  {
   "cell_type": "code",
   "execution_count": 23,
   "metadata": {
    "slideshow": {
     "slide_type": "slide"
    }
   },
   "outputs": [
    {
     "name": "stdout",
     "output_type": "stream",
     "text": [
      "Training set score: 0.68\n",
      "Test set score: 0.62\n",
      "Number of features used: 44\n"
     ]
    }
   ],
   "source": [
    "r = Ridge(alpha = 0.1).fit(X_train, y_train)\n",
    "print(\"Training set score: {:.2f}\".format(r.score(X_train, y_train)))\n",
    "print(\"Test set score: {:.2f}\".format(r.score(X_test, y_test)))\n",
    "print(\"Number of features used:\", np.sum(r.coef_ != 0))"
   ]
  },
  {
   "cell_type": "code",
   "execution_count": 24,
   "metadata": {},
   "outputs": [
    {
     "name": "stdout",
     "output_type": "stream",
     "text": [
      "Training set score: 0.51\n",
      "Test set score: 0.48\n",
      "Number of features used: 3\n"
     ]
    }
   ],
   "source": [
    "lasso = Lasso(alpha=0.1, max_iter=10000).fit(X_train, y_train)\n",
    "print(\"Training set score: {:.2f}\".format(lasso.score(X_train, y_train)))\n",
    "print(\"Test set score: {:.2f}\".format(lasso.score(X_test, y_test)))\n",
    "print(\"Number of features used:\", np.sum(lasso.coef_ != 0))"
   ]
  },
  {
   "cell_type": "markdown",
   "metadata": {},
   "source": [
    "- In this case we are not really getting better results with Lasso. \n",
    "- In fact, Lasso is not able to do better than linear regression. \n",
    "- Often you might see better scores than `Ridge` with fewer features.  \n",
    "- If `alpha` is too low, we reduce the effect of overfitting and the results are similar to linear regression. "
   ]
  },
  {
   "cell_type": "markdown",
   "metadata": {},
   "source": [
    "### The weights become smaller and eventually become zero. "
   ]
  },
  {
   "cell_type": "markdown",
   "metadata": {
    "slideshow": {
     "slide_type": "slide"
    }
   },
   "source": [
    "Let's plot coefficients of `Lasso`. "
   ]
  },
  {
   "cell_type": "code",
   "execution_count": 25,
   "metadata": {},
   "outputs": [],
   "source": [
    "alphas = [0, 0.01, 0.1, 1]"
   ]
  },
  {
   "cell_type": "code",
   "execution_count": 26,
   "metadata": {},
   "outputs": [
    {
     "name": "stderr",
     "output_type": "stream",
     "text": [
      "/var/folders/b3/g26r0dcx4b35vf3nk31216hc0000gr/T/ipykernel_27748/562400412.py:6: UserWarning: With alpha=0, this algorithm does not converge well. You are advised to use the LinearRegression estimator\n",
      "  lasso.fit(X_train, y_train)\n",
      "/Users/kvarada/opt/miniconda3/envs/573/lib/python3.10/site-packages/sklearn/linear_model/_coordinate_descent.py:648: UserWarning: Coordinate descent with no regularization may lead to unexpected results and is discouraged.\n",
      "  model = cd_fast.enet_coordinate_descent(\n",
      "/Users/kvarada/opt/miniconda3/envs/573/lib/python3.10/site-packages/sklearn/linear_model/_coordinate_descent.py:648: ConvergenceWarning: Objective did not converge. You might want to increase the number of iterations, check the scale of the features or consider increasing regularisation. Duality gap: 3.394e+03, tolerance: 2.066e+00 Linear regression models with null weight for the l1 regularization term are more efficiently fitted using one of the solvers implemented in sklearn.linear_model.Ridge/RidgeCV instead.\n",
      "  model = cd_fast.enet_coordinate_descent(\n"
     ]
    },
    {
     "data": {
      "image/png": "[encoded data removed]",
      "text/plain": [
       "<Figure size 600x400 with 1 Axes>"
      ]
     },
     "metadata": {},
     "output_type": "display_data"
    }
   ],
   "source": [
    "plt.figure(figsize=(6, 4))\n",
    "markers = ['o','*', 'v','^']\n",
    "lasso_models = {}\n",
    "for (i, alpha) in enumerate(alphas):\n",
    "    lasso = Lasso(alpha = alpha, max_iter=10000)\n",
    "    lasso.fit(X_train, y_train)\n",
    "    plt.plot(r.coef_, markers[i], markersize=5, label=\"Lasso alpha=\"+ str(alpha))\n",
    "plt.xlabel(\"Coefficient index\")\n",
    "plt.ylabel(\"Coefficient magnitude\")\n",
    "plt.hlines(0, 0, len(lasso.coef_))\n",
    "plt.ylim(-25, 25)\n",
    "plt.legend(loc=\"best\",fontsize=8);    "
   ]
  },
  {
   "cell_type": "markdown",
   "metadata": {},
   "source": [
    "- For `alpha = 100` most of the coefficients are zero. \n",
    "- With smaller values of `alpha` we get less and less regularization. "
   ]
  },
  {
   "cell_type": "markdown",
   "metadata": {},
   "source": [
    "- I'm not showing L1 regularization path on our data because it takes too long to run. \n",
    "- But you're likely to see this type of plots in the context of regularization.   \n",
    "![](img/regularization_paths.png)\n",
    "<!-- <img src='img/regularization_paths.png' width=\"1000\" height=\"1000\" /> -->"
   ]
  },
  {
   "cell_type": "markdown",
   "metadata": {
    "slideshow": {
     "slide_type": "slide"
    }
   },
   "source": [
    "### Terminology and notation: Sparsity \n",
    "\n",
    "- We say a linear function is sparse if most of the coefficients are zero. \n",
    "- Example: Here only 2 out of 8 coefficients are non-zero and so it is a sparse function. \n",
    "$$0x_1 + 0.45 x_2 + 0  x_3 + 0x_4 + 1.2x_5 + 0x_6 + 0x_7 + 0x_8$$\n",
    "- L0- and L1-regularization encourage sparsity. "
   ]
  },
  {
   "cell_type": "markdown",
   "metadata": {
    "slideshow": {
     "slide_type": "slide"
    }
   },
   "source": [
    "### Example: L0 vs. L1 vs. L2\n",
    "\n",
    "Consider problem where 3 vectors can get minimum training error:\n",
    "\n",
    "$$w^1 = \\begin{bmatrix}100 \\\\0.02\\end{bmatrix},  w^2 = \\begin{bmatrix}100 \\\\0\\end{bmatrix}, w^3 = \\begin{bmatrix}99.99 \\\\0.02\\end{bmatrix}$$ \n",
    "\n",
    "- Without regularization, we could choose any of these 3.\n",
    "- We are assuming that all have the same error, so regularization will \"break tie\".\n",
    "- Which one would you choose with each of L0, L1, L2 regularization?"
   ]
  },
  {
   "cell_type": "markdown",
   "metadata": {
    "slideshow": {
     "slide_type": "slide"
    }
   },
   "source": [
    "### Which one would you choose with L0 regularization? \n",
    "\n",
    "$$w^1 = \\begin{bmatrix}100 \\\\-0.02\\end{bmatrix},  w^2 = \\begin{bmatrix}100 \\\\0\\end{bmatrix}, w^3 = \\begin{bmatrix}99.99 \\\\0.02\\end{bmatrix}$$ \n",
    "\n",
    "- What are the L0 norms of different weight vectors? \n",
    "    - $\\lVert w^1\\rVert_0 = 2$\n",
    "    - $\\lVert w^2\\rVert_0 = 1$\n",
    "    - $\\lVert w^3\\rVert_0 = 2$\n",
    "<br><br><br><br>    \n",
    "- L0 regularization would choose $w^2$.     "
   ]
  },
  {
   "cell_type": "markdown",
   "metadata": {
    "slideshow": {
     "slide_type": "slide"
    }
   },
   "source": [
    "### Which one would you choose with L1 regularization? \n",
    "\n",
    "$$w^1 = \\begin{bmatrix}100 \\\\0.02\\end{bmatrix},  w^2 = \\begin{bmatrix}100 \\\\0\\end{bmatrix}, w^3 = \\begin{bmatrix}99.99 \\\\0.02\\end{bmatrix}$$ \n",
    "\n",
    "- What are the L1 norms of different weight vectors?\n",
    "    - $\\lVert w^1\\rVert_1 = 100.02$\n",
    "    - $\\lVert w^2\\rVert_1 = 100$\n",
    "    - $\\lVert w^3\\rVert_1 = 100.01$\n",
    "    \n",
    "<br><br><br><br>\n",
    "- L1-regularization would pick $w^2$\n",
    "- L1-regularization focuses on decreasing all $w_j$ until they are 0. "
   ]
  },
  {
   "cell_type": "markdown",
   "metadata": {
    "slideshow": {
     "slide_type": "slide"
    }
   },
   "source": [
    "### Which one would you choose with L2 regularization? \n",
    "\n",
    "$$w^1 = \\begin{bmatrix}100 \\\\0.02\\end{bmatrix},  w^2 = \\begin{bmatrix}100 \\\\0\\end{bmatrix}, w^3 = \\begin{bmatrix}99.99 \\\\0.02\\end{bmatrix}$$ \n",
    "\n",
    "- What are the L2 norms of different weight vectors?\n",
    "    - $\\lVert w^1\\rVert_2^2 = (100)^2 + (0.02)^2 = 10000.0004$\n",
    "    - $\\lVert w^2\\rVert_2^2 = (100)^2 = 10000$\n",
    "    - $\\lVert w^3\\rVert_2^2 = (99.99)^2 + (0.02)^2 = 9998.0005$\n",
    "\n",
    "<br><br><br><br>\n",
    "- L2-regularization would pick $w^3$\n",
    "- L2-regularization focuses on decreasing largest $w_j$ smaller    "
   ]
  },
  {
   "cell_type": "markdown",
   "metadata": {
    "slideshow": {
     "slide_type": "slide"
    }
   },
   "source": [
    "### (Optional) Sparsity and Regularization\n",
    "\n",
    "- Minimizing $\\lVert Xw - y\\rVert_2^2 + \\lambda \\lVert w\\rVert_2^2$ is equivalent to minimizing $\\lVert Xw - y\\rVert_2^2$ subject to the constraint that $\\lVert w\\rVert_2^2 \\leq t(\\delta)$"
   ]
  },
  {
   "cell_type": "markdown",
   "metadata": {},
   "source": [
    "![](img/regularization_sparsity1.png)"
   ]
  },
  {
   "cell_type": "markdown",
   "metadata": {},
   "source": [
    "![](img/l1_l2_solution.png)\n",
    "\n",
    "[Source](https://www.cs.ubc.ca/~schmidtm/Courses/340-F19/L17.pdf)"
   ]
  },
  {
   "cell_type": "markdown",
   "metadata": {
    "slideshow": {
     "slide_type": "slide"
    }
   },
   "source": [
    "### Sparsity and Regularization (with d=1) \n",
    "\n",
    "![](img/sparsity_regularization.png)\n",
    "<!-- <img src='img/sparsity_regularization.png' width=\"1000\" height=\"1000\" /> -->"
   ]
  },
  {
   "cell_type": "markdown",
   "metadata": {},
   "source": [
    "<br><br>"
   ]
  },
  {
   "cell_type": "markdown",
   "metadata": {
    "slideshow": {
     "slide_type": "slide"
    }
   },
   "source": [
    "### Some properties of L1 regularization\n",
    "\n",
    "1. Almost always improves the validation error. \n",
    "2. Can learn with exponential number of irrelevant features.\n",
    "3. Less sensitive to changes in $X$.\n",
    "4. The solution is not unique. (If interested in more explanation on this, see slide 43 in [this slide deck](https://www.cs.ubc.ca/~schmidtm/Courses/340-F19/L18.pdf).)"
   ]
  },
  {
   "cell_type": "markdown",
   "metadata": {
    "slideshow": {
     "slide_type": "slide"
    }
   },
   "source": [
    "### Feature selection using L1 regularization \n",
    "\n",
    "- Feature selection methods we have seen so far: \n",
    "    - RFE\n",
    "    - Search and score with L0-regularization (e.g., forward search)\n",
    "- An effective way of feature selection: L1-regularization "
   ]
  },
  {
   "cell_type": "code",
   "execution_count": 27,
   "metadata": {
    "slideshow": {
     "slide_type": "slide"
    }
   },
   "outputs": [
    {
     "data": {
      "text/plain": [
       "(20640, 8)"
      ]
     },
     "execution_count": 27,
     "metadata": {},
     "output_type": "execute_result"
    }
   ],
   "source": [
    "from sklearn.ensemble import RandomForestRegressor\n",
    "from sklearn.feature_selection import SelectFromModel\n",
    "from sklearn.linear_model import Lasso, LassoCV\n",
    "\n",
    "housing = fetch_california_housing(as_frame=True)\n",
    "X = housing[\"data\"]\n",
    "y = housing[\"target\"]\n",
    "X_train, X_test, y_train, y_test = train_test_split(X, y, random_state=0)\n",
    "pipe_l1_rf = make_pipeline(\n",
    "    StandardScaler(),\n",
    "    SelectFromModel(Lasso(alpha=0.01, max_iter=100000)),\n",
    "    RandomForestRegressor(),\n",
    ")\n",
    "\n",
    "X.shape"
   ]
  },
  {
   "cell_type": "code",
   "execution_count": 28,
   "metadata": {
    "slideshow": {
     "slide_type": "slide"
    }
   },
   "outputs": [
    {
     "data": {
      "text/plain": [
       "0.9731789734697873"
      ]
     },
     "execution_count": 28,
     "metadata": {},
     "output_type": "execute_result"
    }
   ],
   "source": [
    "pipe_l1_rf.fit(X_train, y_train)\n",
    "pipe_l1_rf.score(X_train, y_train)"
   ]
  },
  {
   "cell_type": "code",
   "execution_count": 29,
   "metadata": {},
   "outputs": [
    {
     "name": "stdout",
     "output_type": "stream",
     "text": [
      "Training set score: 0.97\n",
      "Test set score: 0.79\n"
     ]
    }
   ],
   "source": [
    "print(\"Training set score: {:.2f}\".format(pipe_l1_rf.score(X_train, y_train)))\n",
    "print(\"Test set score: {:.2f}\".format(pipe_l1_rf.score(X_test, y_test)))"
   ]
  },
  {
   "cell_type": "code",
   "execution_count": 30,
   "metadata": {},
   "outputs": [
    {
     "name": "stdout",
     "output_type": "stream",
     "text": [
      "Number of features used: 7\n"
     ]
    }
   ],
   "source": [
    "print(\n",
    "    \"Number of features used:\",\n",
    "    np.sum(pipe_l1_rf.named_steps[\"selectfrommodel\"].estimator_.coef_ != 0),\n",
    ")"
   ]
  },
  {
   "cell_type": "markdown",
   "metadata": {
    "slideshow": {
     "slide_type": "skip"
    }
   },
   "source": [
    "<br><br><br><br>"
   ]
  },
  {
   "cell_type": "markdown",
   "metadata": {
    "slideshow": {
     "slide_type": "slide"
    }
   },
   "source": [
    "## Regularized models for classification "
   ]
  },
  {
   "cell_type": "markdown",
   "metadata": {
    "slideshow": {
     "slide_type": "slide"
    }
   },
   "source": [
    "### Regularized logistic regression\n",
    "\n",
    "- Regularization is not limited to least squares. \n",
    "- We can add L1 and L2 penalty terms in other loss functions as well. \n",
    "- Let's look at logistic regression with L1- and L2-regularization."
   ]
  },
  {
   "cell_type": "code",
   "execution_count": 31,
   "metadata": {
    "slideshow": {
     "slide_type": "slide"
    }
   },
   "outputs": [],
   "source": [
    "from sklearn.datasets import load_breast_cancer\n",
    "\n",
    "breast_cancer = load_breast_cancer()\n",
    "# print(breast_cancer.keys())\n",
    "# print(breast_cancer.DESCR)"
   ]
  },
  {
   "cell_type": "code",
   "execution_count": 32,
   "metadata": {
    "slideshow": {
     "slide_type": "-"
    }
   },
   "outputs": [],
   "source": [
    "breast_cancer_df = pd.DataFrame(breast_cancer.data, columns=breast_cancer.feature_names)\n",
    "breast_cancer_df[\"target\"] = breast_cancer.target\n",
    "train_df, test_df = train_test_split(breast_cancer_df, test_size=0.2, random_state=2)\n",
    "\n",
    "X_train, y_train = train_df.drop(columns=[\"target\"]), train_df[\"target\"]\n",
    "X_test, y_test = test_df.drop(columns=[\"target\"]), test_df[\"target\"]"
   ]
  },
  {
   "cell_type": "code",
   "execution_count": 33,
   "metadata": {
    "slideshow": {
     "slide_type": "-"
    }
   },
   "outputs": [
    {
     "data": {
      "text/html": [
       "<div>\n",
       "<style scoped>\n",
       "    .dataframe tbody tr th:only-of-type {\n",
       "        vertical-align: middle;\n",
       "    }\n",
       "\n",
       "    .dataframe tbody tr th {\n",
       "        vertical-align: top;\n",
       "    }\n",
       "\n",
       "    .dataframe thead th {\n",
       "        text-align: right;\n",
       "    }\n",
       "</style>\n",
       "<table border=\"1\" class=\"dataframe\">\n",
       "  <thead>\n",
       "    <tr style=\"text-align: right;\">\n",
       "      <th></th>\n",
       "      <th>mean radius</th>\n",
       "      <th>mean texture</th>\n",
       "      <th>mean perimeter</th>\n",
       "      <th>mean area</th>\n",
       "      <th>mean smoothness</th>\n",
       "      <th>mean compactness</th>\n",
       "      <th>mean concavity</th>\n",
       "      <th>mean concave points</th>\n",
       "      <th>mean symmetry</th>\n",
       "      <th>mean fractal dimension</th>\n",
       "      <th>...</th>\n",
       "      <th>worst radius</th>\n",
       "      <th>worst texture</th>\n",
       "      <th>worst perimeter</th>\n",
       "      <th>worst area</th>\n",
       "      <th>worst smoothness</th>\n",
       "      <th>worst compactness</th>\n",
       "      <th>worst concavity</th>\n",
       "      <th>worst concave points</th>\n",
       "      <th>worst symmetry</th>\n",
       "      <th>worst fractal dimension</th>\n",
       "    </tr>\n",
       "  </thead>\n",
       "  <tbody>\n",
       "    <tr>\n",
       "      <th>560</th>\n",
       "      <td>14.05</td>\n",
       "      <td>27.15</td>\n",
       "      <td>91.38</td>\n",
       "      <td>600.4</td>\n",
       "      <td>0.09929</td>\n",
       "      <td>0.11260</td>\n",
       "      <td>0.04462</td>\n",
       "      <td>0.04304</td>\n",
       "      <td>0.1537</td>\n",
       "      <td>0.06171</td>\n",
       "      <td>...</td>\n",
       "      <td>15.30</td>\n",
       "      <td>33.17</td>\n",
       "      <td>100.20</td>\n",
       "      <td>706.7</td>\n",
       "      <td>0.1241</td>\n",
       "      <td>0.22640</td>\n",
       "      <td>0.1326</td>\n",
       "      <td>0.10480</td>\n",
       "      <td>0.2250</td>\n",
       "      <td>0.08321</td>\n",
       "    </tr>\n",
       "    <tr>\n",
       "      <th>428</th>\n",
       "      <td>11.13</td>\n",
       "      <td>16.62</td>\n",
       "      <td>70.47</td>\n",
       "      <td>381.1</td>\n",
       "      <td>0.08151</td>\n",
       "      <td>0.03834</td>\n",
       "      <td>0.01369</td>\n",
       "      <td>0.01370</td>\n",
       "      <td>0.1511</td>\n",
       "      <td>0.06148</td>\n",
       "      <td>...</td>\n",
       "      <td>11.68</td>\n",
       "      <td>20.29</td>\n",
       "      <td>74.35</td>\n",
       "      <td>421.1</td>\n",
       "      <td>0.1030</td>\n",
       "      <td>0.06219</td>\n",
       "      <td>0.0458</td>\n",
       "      <td>0.04044</td>\n",
       "      <td>0.2383</td>\n",
       "      <td>0.07083</td>\n",
       "    </tr>\n",
       "    <tr>\n",
       "      <th>198</th>\n",
       "      <td>19.18</td>\n",
       "      <td>22.49</td>\n",
       "      <td>127.50</td>\n",
       "      <td>1148.0</td>\n",
       "      <td>0.08523</td>\n",
       "      <td>0.14280</td>\n",
       "      <td>0.11140</td>\n",
       "      <td>0.06772</td>\n",
       "      <td>0.1767</td>\n",
       "      <td>0.05529</td>\n",
       "      <td>...</td>\n",
       "      <td>23.36</td>\n",
       "      <td>32.06</td>\n",
       "      <td>166.40</td>\n",
       "      <td>1688.0</td>\n",
       "      <td>0.1322</td>\n",
       "      <td>0.56010</td>\n",
       "      <td>0.3865</td>\n",
       "      <td>0.17080</td>\n",
       "      <td>0.3193</td>\n",
       "      <td>0.09221</td>\n",
       "    </tr>\n",
       "    <tr>\n",
       "      <th>203</th>\n",
       "      <td>13.81</td>\n",
       "      <td>23.75</td>\n",
       "      <td>91.56</td>\n",
       "      <td>597.8</td>\n",
       "      <td>0.13230</td>\n",
       "      <td>0.17680</td>\n",
       "      <td>0.15580</td>\n",
       "      <td>0.09176</td>\n",
       "      <td>0.2251</td>\n",
       "      <td>0.07421</td>\n",
       "      <td>...</td>\n",
       "      <td>19.20</td>\n",
       "      <td>41.85</td>\n",
       "      <td>128.50</td>\n",
       "      <td>1153.0</td>\n",
       "      <td>0.2226</td>\n",
       "      <td>0.52090</td>\n",
       "      <td>0.4646</td>\n",
       "      <td>0.20130</td>\n",
       "      <td>0.4432</td>\n",
       "      <td>0.10860</td>\n",
       "    </tr>\n",
       "    <tr>\n",
       "      <th>41</th>\n",
       "      <td>10.95</td>\n",
       "      <td>21.35</td>\n",
       "      <td>71.90</td>\n",
       "      <td>371.1</td>\n",
       "      <td>0.12270</td>\n",
       "      <td>0.12180</td>\n",
       "      <td>0.10440</td>\n",
       "      <td>0.05669</td>\n",
       "      <td>0.1895</td>\n",
       "      <td>0.06870</td>\n",
       "      <td>...</td>\n",
       "      <td>12.84</td>\n",
       "      <td>35.34</td>\n",
       "      <td>87.22</td>\n",
       "      <td>514.0</td>\n",
       "      <td>0.1909</td>\n",
       "      <td>0.26980</td>\n",
       "      <td>0.4023</td>\n",
       "      <td>0.14240</td>\n",
       "      <td>0.2964</td>\n",
       "      <td>0.09606</td>\n",
       "    </tr>\n",
       "  </tbody>\n",
       "</table>\n",
       "<p>5 rows × 30 columns</p>\n",
       "</div>"
      ],
      "text/plain": [
       "     mean radius  mean texture  mean perimeter  mean area  mean smoothness  \\\n",
       "560        14.05         27.15           91.38      600.4          0.09929   \n",
       "428        11.13         16.62           70.47      381.1          0.08151   \n",
       "198        19.18         22.49          127.50     1148.0          0.08523   \n",
       "203        13.81         23.75           91.56      597.8          0.13230   \n",
       "41         10.95         21.35           71.90      371.1          0.12270   \n",
       "\n",
       "     mean compactness  mean concavity  mean concave points  mean symmetry  \\\n",
       "560           0.11260         0.04462              0.04304         0.1537   \n",
       "428           0.03834         0.01369              0.01370         0.1511   \n",
       "198           0.14280         0.11140              0.06772         0.1767   \n",
       "203           0.17680         0.15580              0.09176         0.2251   \n",
       "41            0.12180         0.10440              0.05669         0.1895   \n",
       "\n",
       "     mean fractal dimension  ...  worst radius  worst texture  \\\n",
       "560                 0.06171  ...         15.30          33.17   \n",
       "428                 0.06148  ...         11.68          20.29   \n",
       "198                 0.05529  ...         23.36          32.06   \n",
       "203                 0.07421  ...         19.20          41.85   \n",
       "41                  0.06870  ...         12.84          35.34   \n",
       "\n",
       "     worst perimeter  worst area  worst smoothness  worst compactness  \\\n",
       "560           100.20       706.7            0.1241            0.22640   \n",
       "428            74.35       421.1            0.1030            0.06219   \n",
       "198           166.40      1688.0            0.1322            0.56010   \n",
       "203           128.50      1153.0            0.2226            0.52090   \n",
       "41             87.22       514.0            0.1909            0.26980   \n",
       "\n",
       "     worst concavity  worst concave points  worst symmetry  \\\n",
       "560           0.1326               0.10480          0.2250   \n",
       "428           0.0458               0.04044          0.2383   \n",
       "198           0.3865               0.17080          0.3193   \n",
       "203           0.4646               0.20130          0.4432   \n",
       "41            0.4023               0.14240          0.2964   \n",
       "\n",
       "     worst fractal dimension  \n",
       "560                  0.08321  \n",
       "428                  0.07083  \n",
       "198                  0.09221  \n",
       "203                  0.10860  \n",
       "41                   0.09606  \n",
       "\n",
       "[5 rows x 30 columns]"
      ]
     },
     "execution_count": 33,
     "metadata": {},
     "output_type": "execute_result"
    }
   ],
   "source": [
    "X_train.head()"
   ]
  },
  {
   "cell_type": "code",
   "execution_count": 34,
   "metadata": {},
   "outputs": [
    {
     "data": {
      "text/plain": [
       "1    0.632967\n",
       "0    0.367033\n",
       "Name: target, dtype: float64"
      ]
     },
     "execution_count": 34,
     "metadata": {},
     "output_type": "execute_result"
    }
   ],
   "source": [
    "y_train.value_counts(normalize=True)"
   ]
  },
  {
   "cell_type": "code",
   "execution_count": 35,
   "metadata": {
    "slideshow": {
     "slide_type": "slide"
    }
   },
   "outputs": [],
   "source": [
    "from sklearn.metrics import f1_score, make_scorer, recall_score\n",
    "\n",
    "custom_scorer = make_scorer(\n",
    "    f1_score, pos_label=0\n",
    ")  # note the syntax to change the positive label for f1 score\n",
    "scoring_metric = custom_scorer\n",
    "\n",
    "results_classification = {}"
   ]
  },
  {
   "cell_type": "markdown",
   "metadata": {
    "slideshow": {
     "slide_type": "slide"
    }
   },
   "source": [
    "Let's try `DummyClassifier`"
   ]
  },
  {
   "cell_type": "code",
   "execution_count": 36,
   "metadata": {
    "slideshow": {
     "slide_type": "-"
    }
   },
   "outputs": [
    {
     "data": {
      "text/html": [
       "<div>\n",
       "<style scoped>\n",
       "    .dataframe tbody tr th:only-of-type {\n",
       "        vertical-align: middle;\n",
       "    }\n",
       "\n",
       "    .dataframe tbody tr th {\n",
       "        vertical-align: top;\n",
       "    }\n",
       "\n",
       "    .dataframe thead th {\n",
       "        text-align: right;\n",
       "    }\n",
       "</style>\n",
       "<table border=\"1\" class=\"dataframe\">\n",
       "  <thead>\n",
       "    <tr style=\"text-align: right;\">\n",
       "      <th></th>\n",
       "      <th>dummy</th>\n",
       "    </tr>\n",
       "  </thead>\n",
       "  <tbody>\n",
       "    <tr>\n",
       "      <th>fit_time</th>\n",
       "      <td>0.000 (+/- 0.001)</td>\n",
       "    </tr>\n",
       "    <tr>\n",
       "      <th>score_time</th>\n",
       "      <td>0.000 (+/- 0.000)</td>\n",
       "    </tr>\n",
       "    <tr>\n",
       "      <th>test_score</th>\n",
       "      <td>0.000 (+/- 0.000)</td>\n",
       "    </tr>\n",
       "    <tr>\n",
       "      <th>train_score</th>\n",
       "      <td>0.000 (+/- 0.000)</td>\n",
       "    </tr>\n",
       "  </tbody>\n",
       "</table>\n",
       "</div>"
      ],
      "text/plain": [
       "                         dummy\n",
       "fit_time     0.000 (+/- 0.001)\n",
       "score_time   0.000 (+/- 0.000)\n",
       "test_score   0.000 (+/- 0.000)\n",
       "train_score  0.000 (+/- 0.000)"
      ]
     },
     "execution_count": 36,
     "metadata": {},
     "output_type": "execute_result"
    }
   ],
   "source": [
    "dummy = DummyClassifier()\n",
    "results_classification[\"dummy\"] = mean_std_cross_val_scores(\n",
    "    dummy,\n",
    "    X_train,\n",
    "    y_train,\n",
    "    return_train_score=True,\n",
    "    scoring=scoring_metric,\n",
    ")\n",
    "pd.DataFrame(results_classification)"
   ]
  },
  {
   "cell_type": "markdown",
   "metadata": {
    "slideshow": {
     "slide_type": "slide"
    }
   },
   "source": [
    "- In `sklearn`, by default logistic regression uses L2 regularization. \n",
    "- The `C` hyperparameter decides the strength of regularization. \n",
    "- Unfortunately, interpretation of `C` is inverse of `lambda`. "
   ]
  },
  {
   "cell_type": "code",
   "execution_count": 37,
   "metadata": {},
   "outputs": [],
   "source": [
    "pipe_lgr_l2 = make_pipeline(StandardScaler(), LogisticRegression())\n",
    "results_classification[\"Logistic Regression L2\"] = mean_std_cross_val_scores(\n",
    "    pipe_lgr_l2, X_train, y_train, return_train_score=True, scoring=scoring_metric\n",
    ")"
   ]
  },
  {
   "cell_type": "code",
   "execution_count": 38,
   "metadata": {},
   "outputs": [
    {
     "data": {
      "text/html": [
       "<div>\n",
       "<style scoped>\n",
       "    .dataframe tbody tr th:only-of-type {\n",
       "        vertical-align: middle;\n",
       "    }\n",
       "\n",
       "    .dataframe tbody tr th {\n",
       "        vertical-align: top;\n",
       "    }\n",
       "\n",
       "    .dataframe thead th {\n",
       "        text-align: right;\n",
       "    }\n",
       "</style>\n",
       "<table border=\"1\" class=\"dataframe\">\n",
       "  <thead>\n",
       "    <tr style=\"text-align: right;\">\n",
       "      <th></th>\n",
       "      <th>dummy</th>\n",
       "      <th>Logistic Regression L2</th>\n",
       "    </tr>\n",
       "  </thead>\n",
       "  <tbody>\n",
       "    <tr>\n",
       "      <th>fit_time</th>\n",
       "      <td>0.000 (+/- 0.001)</td>\n",
       "      <td>0.005 (+/- 0.002)</td>\n",
       "    </tr>\n",
       "    <tr>\n",
       "      <th>score_time</th>\n",
       "      <td>0.000 (+/- 0.000)</td>\n",
       "      <td>0.001 (+/- 0.000)</td>\n",
       "    </tr>\n",
       "    <tr>\n",
       "      <th>test_score</th>\n",
       "      <td>0.000 (+/- 0.000)</td>\n",
       "      <td>0.970 (+/- 0.011)</td>\n",
       "    </tr>\n",
       "    <tr>\n",
       "      <th>train_score</th>\n",
       "      <td>0.000 (+/- 0.000)</td>\n",
       "      <td>0.985 (+/- 0.005)</td>\n",
       "    </tr>\n",
       "  </tbody>\n",
       "</table>\n",
       "</div>"
      ],
      "text/plain": [
       "                         dummy Logistic Regression L2\n",
       "fit_time     0.000 (+/- 0.001)      0.005 (+/- 0.002)\n",
       "score_time   0.000 (+/- 0.000)      0.001 (+/- 0.000)\n",
       "test_score   0.000 (+/- 0.000)      0.970 (+/- 0.011)\n",
       "train_score  0.000 (+/- 0.000)      0.985 (+/- 0.005)"
      ]
     },
     "execution_count": 38,
     "metadata": {},
     "output_type": "execute_result"
    }
   ],
   "source": [
    "pd.DataFrame(results_classification)"
   ]
  },
  {
   "cell_type": "markdown",
   "metadata": {
    "slideshow": {
     "slide_type": "slide"
    }
   },
   "source": [
    "Weights are small but all of them are non-zero. "
   ]
  },
  {
   "cell_type": "code",
   "execution_count": 39,
   "metadata": {
    "slideshow": {
     "slide_type": "-"
    }
   },
   "outputs": [
    {
     "data": {
      "text/html": [
       "<div>\n",
       "<style scoped>\n",
       "    .dataframe tbody tr th:only-of-type {\n",
       "        vertical-align: middle;\n",
       "    }\n",
       "\n",
       "    .dataframe tbody tr th {\n",
       "        vertical-align: top;\n",
       "    }\n",
       "\n",
       "    .dataframe thead th {\n",
       "        text-align: right;\n",
       "    }\n",
       "</style>\n",
       "<table border=\"1\" class=\"dataframe\">\n",
       "  <thead>\n",
       "    <tr style=\"text-align: right;\">\n",
       "      <th></th>\n",
       "      <th>l2_coefs</th>\n",
       "    </tr>\n",
       "  </thead>\n",
       "  <tbody>\n",
       "    <tr>\n",
       "      <th>mean radius</th>\n",
       "      <td>-0.539854</td>\n",
       "    </tr>\n",
       "    <tr>\n",
       "      <th>mean texture</th>\n",
       "      <td>-0.252141</td>\n",
       "    </tr>\n",
       "    <tr>\n",
       "      <th>mean perimeter</th>\n",
       "      <td>-0.494560</td>\n",
       "    </tr>\n",
       "    <tr>\n",
       "      <th>mean area</th>\n",
       "      <td>-0.610451</td>\n",
       "    </tr>\n",
       "    <tr>\n",
       "      <th>mean smoothness</th>\n",
       "      <td>-0.174066</td>\n",
       "    </tr>\n",
       "    <tr>\n",
       "      <th>mean compactness</th>\n",
       "      <td>0.577983</td>\n",
       "    </tr>\n",
       "    <tr>\n",
       "      <th>mean concavity</th>\n",
       "      <td>-0.658777</td>\n",
       "    </tr>\n",
       "    <tr>\n",
       "      <th>mean concave points</th>\n",
       "      <td>-0.980244</td>\n",
       "    </tr>\n",
       "    <tr>\n",
       "      <th>mean symmetry</th>\n",
       "      <td>0.119974</td>\n",
       "    </tr>\n",
       "    <tr>\n",
       "      <th>mean fractal dimension</th>\n",
       "      <td>0.406479</td>\n",
       "    </tr>\n",
       "    <tr>\n",
       "      <th>radius error</th>\n",
       "      <td>-1.247956</td>\n",
       "    </tr>\n",
       "    <tr>\n",
       "      <th>texture error</th>\n",
       "      <td>-0.103258</td>\n",
       "    </tr>\n",
       "    <tr>\n",
       "      <th>perimeter error</th>\n",
       "      <td>-0.731201</td>\n",
       "    </tr>\n",
       "    <tr>\n",
       "      <th>area error</th>\n",
       "      <td>-0.931584</td>\n",
       "    </tr>\n",
       "    <tr>\n",
       "      <th>smoothness error</th>\n",
       "      <td>-0.230991</td>\n",
       "    </tr>\n",
       "    <tr>\n",
       "      <th>compactness error</th>\n",
       "      <td>0.614317</td>\n",
       "    </tr>\n",
       "    <tr>\n",
       "      <th>concavity error</th>\n",
       "      <td>-0.032318</td>\n",
       "    </tr>\n",
       "    <tr>\n",
       "      <th>concave points error</th>\n",
       "      <td>-0.206376</td>\n",
       "    </tr>\n",
       "    <tr>\n",
       "      <th>symmetry error</th>\n",
       "      <td>0.272883</td>\n",
       "    </tr>\n",
       "    <tr>\n",
       "      <th>fractal dimension error</th>\n",
       "      <td>0.739561</td>\n",
       "    </tr>\n",
       "    <tr>\n",
       "      <th>worst radius</th>\n",
       "      <td>-1.040150</td>\n",
       "    </tr>\n",
       "    <tr>\n",
       "      <th>worst texture</th>\n",
       "      <td>-1.096207</td>\n",
       "    </tr>\n",
       "    <tr>\n",
       "      <th>worst perimeter</th>\n",
       "      <td>-0.885489</td>\n",
       "    </tr>\n",
       "    <tr>\n",
       "      <th>worst area</th>\n",
       "      <td>-1.026863</td>\n",
       "    </tr>\n",
       "    <tr>\n",
       "      <th>worst smoothness</th>\n",
       "      <td>-0.927290</td>\n",
       "    </tr>\n",
       "    <tr>\n",
       "      <th>worst compactness</th>\n",
       "      <td>-0.075403</td>\n",
       "    </tr>\n",
       "    <tr>\n",
       "      <th>worst concavity</th>\n",
       "      <td>-0.766568</td>\n",
       "    </tr>\n",
       "    <tr>\n",
       "      <th>worst concave points</th>\n",
       "      <td>-0.732966</td>\n",
       "    </tr>\n",
       "    <tr>\n",
       "      <th>worst symmetry</th>\n",
       "      <td>-0.669925</td>\n",
       "    </tr>\n",
       "    <tr>\n",
       "      <th>worst fractal dimension</th>\n",
       "      <td>-0.520939</td>\n",
       "    </tr>\n",
       "  </tbody>\n",
       "</table>\n",
       "</div>"
      ],
      "text/plain": [
       "                         l2_coefs\n",
       "mean radius             -0.539854\n",
       "mean texture            -0.252141\n",
       "mean perimeter          -0.494560\n",
       "mean area               -0.610451\n",
       "mean smoothness         -0.174066\n",
       "mean compactness         0.577983\n",
       "mean concavity          -0.658777\n",
       "mean concave points     -0.980244\n",
       "mean symmetry            0.119974\n",
       "mean fractal dimension   0.406479\n",
       "radius error            -1.247956\n",
       "texture error           -0.103258\n",
       "perimeter error         -0.731201\n",
       "area error              -0.931584\n",
       "smoothness error        -0.230991\n",
       "compactness error        0.614317\n",
       "concavity error         -0.032318\n",
       "concave points error    -0.206376\n",
       "symmetry error           0.272883\n",
       "fractal dimension error  0.739561\n",
       "worst radius            -1.040150\n",
       "worst texture           -1.096207\n",
       "worst perimeter         -0.885489\n",
       "worst area              -1.026863\n",
       "worst smoothness        -0.927290\n",
       "worst compactness       -0.075403\n",
       "worst concavity         -0.766568\n",
       "worst concave points    -0.732966\n",
       "worst symmetry          -0.669925\n",
       "worst fractal dimension -0.520939"
      ]
     },
     "execution_count": 39,
     "metadata": {},
     "output_type": "execute_result"
    }
   ],
   "source": [
    "pipe_lgr_l2.fit(X_train, y_train)\n",
    "l2_coefs = pipe_lgr_l2.named_steps[\"logisticregression\"].coef_.flatten()\n",
    "df = pd.DataFrame(l2_coefs, index=X_train.columns, columns=[\"l2_coefs\"])\n",
    "df"
   ]
  },
  {
   "cell_type": "markdown",
   "metadata": {
    "slideshow": {
     "slide_type": "slide"
    }
   },
   "source": [
    "- Let's try logistic regression with L1 regularization.\n",
    "- Note that I'm using a different solver (optimizer) here because not all solvers support L1-regularization. "
   ]
  },
  {
   "cell_type": "code",
   "execution_count": 40,
   "metadata": {
    "slideshow": {
     "slide_type": "-"
    }
   },
   "outputs": [],
   "source": [
    "pipe_lgr_l1 = make_pipeline(\n",
    "    StandardScaler(), LogisticRegression(solver=\"liblinear\", penalty=\"l1\")\n",
    ")\n",
    "results_classification[\"Logistic Regression L1\"] = mean_std_cross_val_scores(\n",
    "    pipe_lgr_l1, X_train, y_train, return_train_score=True, scoring=scoring_metric\n",
    ")"
   ]
  },
  {
   "cell_type": "code",
   "execution_count": 41,
   "metadata": {},
   "outputs": [
    {
     "data": {
      "text/html": [
       "<div>\n",
       "<style scoped>\n",
       "    .dataframe tbody tr th:only-of-type {\n",
       "        vertical-align: middle;\n",
       "    }\n",
       "\n",
       "    .dataframe tbody tr th {\n",
       "        vertical-align: top;\n",
       "    }\n",
       "\n",
       "    .dataframe thead th {\n",
       "        text-align: right;\n",
       "    }\n",
       "</style>\n",
       "<table border=\"1\" class=\"dataframe\">\n",
       "  <thead>\n",
       "    <tr style=\"text-align: right;\">\n",
       "      <th></th>\n",
       "      <th>dummy</th>\n",
       "      <th>Logistic Regression L2</th>\n",
       "      <th>Logistic Regression L1</th>\n",
       "    </tr>\n",
       "  </thead>\n",
       "  <tbody>\n",
       "    <tr>\n",
       "      <th>fit_time</th>\n",
       "      <td>0.000 (+/- 0.001)</td>\n",
       "      <td>0.005 (+/- 0.002)</td>\n",
       "      <td>0.003 (+/- 0.001)</td>\n",
       "    </tr>\n",
       "    <tr>\n",
       "      <th>score_time</th>\n",
       "      <td>0.000 (+/- 0.000)</td>\n",
       "      <td>0.001 (+/- 0.000)</td>\n",
       "      <td>0.001 (+/- 0.000)</td>\n",
       "    </tr>\n",
       "    <tr>\n",
       "      <th>test_score</th>\n",
       "      <td>0.000 (+/- 0.000)</td>\n",
       "      <td>0.970 (+/- 0.011)</td>\n",
       "      <td>0.967 (+/- 0.007)</td>\n",
       "    </tr>\n",
       "    <tr>\n",
       "      <th>train_score</th>\n",
       "      <td>0.000 (+/- 0.000)</td>\n",
       "      <td>0.985 (+/- 0.005)</td>\n",
       "      <td>0.985 (+/- 0.005)</td>\n",
       "    </tr>\n",
       "  </tbody>\n",
       "</table>\n",
       "</div>"
      ],
      "text/plain": [
       "                         dummy Logistic Regression L2 Logistic Regression L1\n",
       "fit_time     0.000 (+/- 0.001)      0.005 (+/- 0.002)      0.003 (+/- 0.001)\n",
       "score_time   0.000 (+/- 0.000)      0.001 (+/- 0.000)      0.001 (+/- 0.000)\n",
       "test_score   0.000 (+/- 0.000)      0.970 (+/- 0.011)      0.967 (+/- 0.007)\n",
       "train_score  0.000 (+/- 0.000)      0.985 (+/- 0.005)      0.985 (+/- 0.005)"
      ]
     },
     "execution_count": 41,
     "metadata": {},
     "output_type": "execute_result"
    }
   ],
   "source": [
    "pd.DataFrame(results_classification)"
   ]
  },
  {
   "cell_type": "markdown",
   "metadata": {},
   "source": [
    "- The scores are more or less the same."
   ]
  },
  {
   "cell_type": "markdown",
   "metadata": {
    "slideshow": {
     "slide_type": "slide"
    }
   },
   "source": [
    "- But L1 regularization is carrying out feature selection; Many coefficients are 0. \n",
    "- Similar scores with less features! More interpretable model! "
   ]
  },
  {
   "cell_type": "code",
   "execution_count": 42,
   "metadata": {},
   "outputs": [
    {
     "data": {
      "text/html": [
       "<div>\n",
       "<style scoped>\n",
       "    .dataframe tbody tr th:only-of-type {\n",
       "        vertical-align: middle;\n",
       "    }\n",
       "\n",
       "    .dataframe tbody tr th {\n",
       "        vertical-align: top;\n",
       "    }\n",
       "\n",
       "    .dataframe thead th {\n",
       "        text-align: right;\n",
       "    }\n",
       "</style>\n",
       "<table border=\"1\" class=\"dataframe\">\n",
       "  <thead>\n",
       "    <tr style=\"text-align: right;\">\n",
       "      <th></th>\n",
       "      <th>l2_coefs</th>\n",
       "      <th>l1_coef</th>\n",
       "    </tr>\n",
       "  </thead>\n",
       "  <tbody>\n",
       "    <tr>\n",
       "      <th>mean radius</th>\n",
       "      <td>-0.539854</td>\n",
       "      <td>0.000000</td>\n",
       "    </tr>\n",
       "    <tr>\n",
       "      <th>mean texture</th>\n",
       "      <td>-0.252141</td>\n",
       "      <td>0.000000</td>\n",
       "    </tr>\n",
       "    <tr>\n",
       "      <th>mean perimeter</th>\n",
       "      <td>-0.494560</td>\n",
       "      <td>0.000000</td>\n",
       "    </tr>\n",
       "    <tr>\n",
       "      <th>mean area</th>\n",
       "      <td>-0.610451</td>\n",
       "      <td>0.000000</td>\n",
       "    </tr>\n",
       "    <tr>\n",
       "      <th>mean smoothness</th>\n",
       "      <td>-0.174066</td>\n",
       "      <td>0.000000</td>\n",
       "    </tr>\n",
       "    <tr>\n",
       "      <th>mean compactness</th>\n",
       "      <td>0.577983</td>\n",
       "      <td>0.000000</td>\n",
       "    </tr>\n",
       "    <tr>\n",
       "      <th>mean concavity</th>\n",
       "      <td>-0.658777</td>\n",
       "      <td>0.000000</td>\n",
       "    </tr>\n",
       "    <tr>\n",
       "      <th>mean concave points</th>\n",
       "      <td>-0.980244</td>\n",
       "      <td>-1.337092</td>\n",
       "    </tr>\n",
       "    <tr>\n",
       "      <th>mean symmetry</th>\n",
       "      <td>0.119974</td>\n",
       "      <td>0.000000</td>\n",
       "    </tr>\n",
       "    <tr>\n",
       "      <th>mean fractal dimension</th>\n",
       "      <td>0.406479</td>\n",
       "      <td>0.271158</td>\n",
       "    </tr>\n",
       "    <tr>\n",
       "      <th>radius error</th>\n",
       "      <td>-1.247956</td>\n",
       "      <td>-2.007079</td>\n",
       "    </tr>\n",
       "    <tr>\n",
       "      <th>texture error</th>\n",
       "      <td>-0.103258</td>\n",
       "      <td>0.000000</td>\n",
       "    </tr>\n",
       "    <tr>\n",
       "      <th>perimeter error</th>\n",
       "      <td>-0.731201</td>\n",
       "      <td>0.000000</td>\n",
       "    </tr>\n",
       "    <tr>\n",
       "      <th>area error</th>\n",
       "      <td>-0.931584</td>\n",
       "      <td>0.000000</td>\n",
       "    </tr>\n",
       "    <tr>\n",
       "      <th>smoothness error</th>\n",
       "      <td>-0.230991</td>\n",
       "      <td>-0.127449</td>\n",
       "    </tr>\n",
       "    <tr>\n",
       "      <th>compactness error</th>\n",
       "      <td>0.614317</td>\n",
       "      <td>0.537477</td>\n",
       "    </tr>\n",
       "    <tr>\n",
       "      <th>concavity error</th>\n",
       "      <td>-0.032318</td>\n",
       "      <td>0.000000</td>\n",
       "    </tr>\n",
       "    <tr>\n",
       "      <th>concave points error</th>\n",
       "      <td>-0.206376</td>\n",
       "      <td>0.000000</td>\n",
       "    </tr>\n",
       "    <tr>\n",
       "      <th>symmetry error</th>\n",
       "      <td>0.272883</td>\n",
       "      <td>0.000000</td>\n",
       "    </tr>\n",
       "    <tr>\n",
       "      <th>fractal dimension error</th>\n",
       "      <td>0.739561</td>\n",
       "      <td>0.227465</td>\n",
       "    </tr>\n",
       "    <tr>\n",
       "      <th>worst radius</th>\n",
       "      <td>-1.040150</td>\n",
       "      <td>-1.382266</td>\n",
       "    </tr>\n",
       "    <tr>\n",
       "      <th>worst texture</th>\n",
       "      <td>-1.096207</td>\n",
       "      <td>-1.372887</td>\n",
       "    </tr>\n",
       "    <tr>\n",
       "      <th>worst perimeter</th>\n",
       "      <td>-0.885489</td>\n",
       "      <td>-0.419092</td>\n",
       "    </tr>\n",
       "    <tr>\n",
       "      <th>worst area</th>\n",
       "      <td>-1.026863</td>\n",
       "      <td>-3.613997</td>\n",
       "    </tr>\n",
       "    <tr>\n",
       "      <th>worst smoothness</th>\n",
       "      <td>-0.927290</td>\n",
       "      <td>-0.984068</td>\n",
       "    </tr>\n",
       "    <tr>\n",
       "      <th>worst compactness</th>\n",
       "      <td>-0.075403</td>\n",
       "      <td>0.000000</td>\n",
       "    </tr>\n",
       "    <tr>\n",
       "      <th>worst concavity</th>\n",
       "      <td>-0.766568</td>\n",
       "      <td>-1.011790</td>\n",
       "    </tr>\n",
       "    <tr>\n",
       "      <th>worst concave points</th>\n",
       "      <td>-0.732966</td>\n",
       "      <td>-0.660896</td>\n",
       "    </tr>\n",
       "    <tr>\n",
       "      <th>worst symmetry</th>\n",
       "      <td>-0.669925</td>\n",
       "      <td>-0.299326</td>\n",
       "    </tr>\n",
       "    <tr>\n",
       "      <th>worst fractal dimension</th>\n",
       "      <td>-0.520939</td>\n",
       "      <td>0.000000</td>\n",
       "    </tr>\n",
       "  </tbody>\n",
       "</table>\n",
       "</div>"
      ],
      "text/plain": [
       "                         l2_coefs   l1_coef\n",
       "mean radius             -0.539854  0.000000\n",
       "mean texture            -0.252141  0.000000\n",
       "mean perimeter          -0.494560  0.000000\n",
       "mean area               -0.610451  0.000000\n",
       "mean smoothness         -0.174066  0.000000\n",
       "mean compactness         0.577983  0.000000\n",
       "mean concavity          -0.658777  0.000000\n",
       "mean concave points     -0.980244 -1.337092\n",
       "mean symmetry            0.119974  0.000000\n",
       "mean fractal dimension   0.406479  0.271158\n",
       "radius error            -1.247956 -2.007079\n",
       "texture error           -0.103258  0.000000\n",
       "perimeter error         -0.731201  0.000000\n",
       "area error              -0.931584  0.000000\n",
       "smoothness error        -0.230991 -0.127449\n",
       "compactness error        0.614317  0.537477\n",
       "concavity error         -0.032318  0.000000\n",
       "concave points error    -0.206376  0.000000\n",
       "symmetry error           0.272883  0.000000\n",
       "fractal dimension error  0.739561  0.227465\n",
       "worst radius            -1.040150 -1.382266\n",
       "worst texture           -1.096207 -1.372887\n",
       "worst perimeter         -0.885489 -0.419092\n",
       "worst area              -1.026863 -3.613997\n",
       "worst smoothness        -0.927290 -0.984068\n",
       "worst compactness       -0.075403  0.000000\n",
       "worst concavity         -0.766568 -1.011790\n",
       "worst concave points    -0.732966 -0.660896\n",
       "worst symmetry          -0.669925 -0.299326\n",
       "worst fractal dimension -0.520939  0.000000"
      ]
     },
     "execution_count": 42,
     "metadata": {},
     "output_type": "execute_result"
    }
   ],
   "source": [
    "pipe_lgr_l1.fit(X_train, y_train)\n",
    "l1_coefs = pipe_lgr_l1.named_steps[\"logisticregression\"].coef_.flatten()\n",
    "df[\"l1_coef\"] = l1_coefs\n",
    "df"
   ]
  },
  {
   "cell_type": "markdown",
   "metadata": {
    "slideshow": {
     "slide_type": "slide"
    }
   },
   "source": [
    "We can also carry out feature selection using L1 regularization and pass selected features to another model. "
   ]
  },
  {
   "cell_type": "code",
   "execution_count": 43,
   "metadata": {},
   "outputs": [],
   "source": [
    "from lightgbm.sklearn import LGBMClassifier\n",
    "\n",
    "pipe_lgr_lgbm = make_pipeline(\n",
    "    StandardScaler(),\n",
    "    SelectFromModel(LogisticRegression(solver=\"liblinear\", penalty=\"l1\")),\n",
    "    LGBMClassifier(),\n",
    ")"
   ]
  },
  {
   "cell_type": "code",
   "execution_count": 44,
   "metadata": {
    "slideshow": {
     "slide_type": "slide"
    }
   },
   "outputs": [
    {
     "data": {
      "text/html": [
       "<div>\n",
       "<style scoped>\n",
       "    .dataframe tbody tr th:only-of-type {\n",
       "        vertical-align: middle;\n",
       "    }\n",
       "\n",
       "    .dataframe tbody tr th {\n",
       "        vertical-align: top;\n",
       "    }\n",
       "\n",
       "    .dataframe thead th {\n",
       "        text-align: right;\n",
       "    }\n",
       "</style>\n",
       "<table border=\"1\" class=\"dataframe\">\n",
       "  <thead>\n",
       "    <tr style=\"text-align: right;\">\n",
       "      <th></th>\n",
       "      <th>dummy</th>\n",
       "      <th>Logistic Regression L2</th>\n",
       "      <th>Logistic Regression L1</th>\n",
       "      <th>L1 + LGBM</th>\n",
       "    </tr>\n",
       "  </thead>\n",
       "  <tbody>\n",
       "    <tr>\n",
       "      <th>fit_time</th>\n",
       "      <td>0.000 (+/- 0.001)</td>\n",
       "      <td>0.005 (+/- 0.002)</td>\n",
       "      <td>0.003 (+/- 0.001)</td>\n",
       "      <td>0.151 (+/- 0.015)</td>\n",
       "    </tr>\n",
       "    <tr>\n",
       "      <th>score_time</th>\n",
       "      <td>0.000 (+/- 0.000)</td>\n",
       "      <td>0.001 (+/- 0.000)</td>\n",
       "      <td>0.001 (+/- 0.000)</td>\n",
       "      <td>0.001 (+/- 0.000)</td>\n",
       "    </tr>\n",
       "    <tr>\n",
       "      <th>test_score</th>\n",
       "      <td>0.000 (+/- 0.000)</td>\n",
       "      <td>0.970 (+/- 0.011)</td>\n",
       "      <td>0.967 (+/- 0.007)</td>\n",
       "      <td>0.957 (+/- 0.034)</td>\n",
       "    </tr>\n",
       "    <tr>\n",
       "      <th>train_score</th>\n",
       "      <td>0.000 (+/- 0.000)</td>\n",
       "      <td>0.985 (+/- 0.005)</td>\n",
       "      <td>0.985 (+/- 0.005)</td>\n",
       "      <td>1.000 (+/- 0.000)</td>\n",
       "    </tr>\n",
       "  </tbody>\n",
       "</table>\n",
       "</div>"
      ],
      "text/plain": [
       "                         dummy Logistic Regression L2 Logistic Regression L1  \\\n",
       "fit_time     0.000 (+/- 0.001)      0.005 (+/- 0.002)      0.003 (+/- 0.001)   \n",
       "score_time   0.000 (+/- 0.000)      0.001 (+/- 0.000)      0.001 (+/- 0.000)   \n",
       "test_score   0.000 (+/- 0.000)      0.970 (+/- 0.011)      0.967 (+/- 0.007)   \n",
       "train_score  0.000 (+/- 0.000)      0.985 (+/- 0.005)      0.985 (+/- 0.005)   \n",
       "\n",
       "                     L1 + LGBM  \n",
       "fit_time     0.151 (+/- 0.015)  \n",
       "score_time   0.001 (+/- 0.000)  \n",
       "test_score   0.957 (+/- 0.034)  \n",
       "train_score  1.000 (+/- 0.000)  "
      ]
     },
     "execution_count": 44,
     "metadata": {},
     "output_type": "execute_result"
    }
   ],
   "source": [
    "results_classification[\"L1 + LGBM\"] = mean_std_cross_val_scores(\n",
    "    pipe_lgr_lgbm,\n",
    "    X_train,\n",
    "    y_train,\n",
    "    return_train_score=True,\n",
    "    scoring=scoring_metric,\n",
    ")\n",
    "pd.DataFrame(results_classification)"
   ]
  },
  {
   "cell_type": "markdown",
   "metadata": {},
   "source": [
    "- The score went down a bit this case. But this might help in some other cases.\n",
    "- The resulting model is using L1 selected features only. "
   ]
  },
  {
   "cell_type": "markdown",
   "metadata": {
    "slideshow": {
     "slide_type": "slide"
    }
   },
   "source": [
    "### How to use regularization with `scikit-learn`: some examples\n",
    "\n",
    "- Regression\n",
    "    - Least squares with L2-regularization: [Ridge](https://scikit-learn.org/stable/modules/generated/sklearn.linear_model.Ridge.html)\n",
    "    - Least squares with L1-regularization: [Lasso](https://scikit-learn.org/stable/modules/generated/sklearn.linear_model.Lasso.html)\n",
    "    - Least squares with L1- and L2-regularization: [ElasticNet](https://scikit-learn.org/stable/modules/generated/sklearn.linear_model.ElasticNet.html)\n",
    "    - [SVR](https://scikit-learn.org/stable/modules/generated/sklearn.svm.SVR.html?highlight=svr#sklearn.svm.SVR) ($\\epsilon$-insensitive loss function)\n",
    "        - `epsilon = 0` gives us `KernelRidge` model (least squares with RBF)\n",
    "- Classification \n",
    "    - [SVC](https://scikit-learn.org/stable/modules/generated/sklearn.svm.SVC.html) (supports L2-regularization)\n",
    "    - [LogisticRegression](https://scikit-learn.org/stable/modules/generated/sklearn.linear_model.LogisticRegression.html#sklearn.linear_model.LogisticRegression) (support L1 and L2 with different solvers)\n",
    "    > penalty{‘l1’, ‘l2’, ‘elasticnet’, ‘none’}, default=’l2’ Used to specify the norm used in the penalization. The ‘newton-cg’, ‘sag’ and ‘lbfgs’ solvers support only l2 penalties. ‘elasticnet’ is only supported by the ‘saga’ solver. If ‘none’ (not supported by the liblinear solver), no regularization is applied.\n",
    "\n"
   ]
  },
  {
   "cell_type": "markdown",
   "metadata": {},
   "source": [
    "<br><br>"
   ]
  },
  {
   "cell_type": "markdown",
   "metadata": {},
   "source": [
    "- Interpretations of coefficients of regularized linear models should always be taken with a grain of salt.\n",
    "- With different values of the regularization parameter, sometimes even the signs of the coefficients might change!!  "
   ]
  },
  {
   "cell_type": "markdown",
   "metadata": {
    "slideshow": {
     "slide_type": "slide"
    }
   },
   "source": [
    "![](img/eva-qm.png)"
   ]
  },
  {
   "cell_type": "markdown",
   "metadata": {},
   "source": [
    "<br><br>"
   ]
  },
  {
   "cell_type": "markdown",
   "metadata": {},
   "source": [
    "## Regularization: scaling and collinearity "
   ]
  },
  {
   "cell_type": "markdown",
   "metadata": {
    "slideshow": {
     "slide_type": "slide"
    }
   },
   "source": [
    "### Regularization and scaling \n",
    "\n",
    "- It doesn't matter for decision trees or naive Bayes.\n",
    "    - They only look at one feature at a time.\n",
    "- It doesn't matter for least squares:\n",
    "    - $w_j*(100 mL)$ gives the same model as $w_j*(0.1 L)$ with a different $w_j$\n",
    "- It matters for $k$-nearest neighbours:\n",
    "    - Distance will be affected more by large features than small features.\n",
    "- **It matters for regularized least squares**:\n",
    "    - Penalizing $w_j^2$ means different things if features $j$ are on different scales\n",
    "    - Penalizing $w_j$ means different things if features $j$ are on different scales\n",
    "    "
   ]
  },
  {
   "cell_type": "markdown",
   "metadata": {
    "slideshow": {
     "slide_type": "slide"
    }
   },
   "source": [
    "### Collinearity and regularization \n",
    "\n",
    "- If you have colinear features, the weights would go crazy with regular linear regression. \n",
    "- With L2 regularization: The weight will be equally distributed among all collinear features because the solution is unique. \n",
    "    - Example: suppose we have three identical features with a total weight of 1 \n",
    "    - The weight will be distributed as 1/3, 1/3, 1/3 among the features. \n",
    "- With L1 regularization: The weight will not be equally distributed; the solution is not unique. \n",
    "    - Example: suppose we have three identical features with a total weight of 1 \n",
    "    - The weight could be distributed in many different ways \n",
    "    - For example, 1/2, 1/4, 1/4 or 1.0, 0, 0 or 1/2, 1/2, 0 and so on ..."
   ]
  },
  {
   "cell_type": "markdown",
   "metadata": {
    "slideshow": {
     "slide_type": "slide"
    }
   },
   "source": [
    "### Elastic nets\n",
    "\n",
    "- Combine good properties from both worlds\n",
    "\n",
    "$$f(w) = \\lVert Xw - y\\rVert_2^2 + \\lambda(\\alpha\\lVert w\\rVert_1 + (1-\\alpha)\\lVert w\\rVert_2^2 )  $$\n",
    "\n",
    "- $\\lambda$ control the strength of regularization \n",
    "- $\\alpha$ controls the amount of sparsity and smoothness\n",
    "- L1 promotes sparsity and the L2 promotes smoothness.\n",
    "- The functional is strictly convex: the solution is unique.\n",
    "- No collinearity problem \n",
    "    - A whole group of correlated variables is selected rather than just one variable in the group."
   ]
  },
  {
   "cell_type": "markdown",
   "metadata": {
    "slideshow": {
     "slide_type": "-"
    }
   },
   "source": [
    "You can use elastic nets using sklearn's [ElasticNet](https://scikit-learn.org/stable/modules/generated/sklearn.linear_model.ElasticNet.html). "
   ]
  },
  {
   "cell_type": "markdown",
   "metadata": {
    "slideshow": {
     "slide_type": "slide"
    }
   },
   "source": [
    "## Summary: L* regularization \n",
    "\n",
    "- L0-regularization (AIC, BIC, Mallow’s Cp, Adjusted R2, ANOVA): More on this is DSCi 562\n",
    "   - Adds penalty on the number of non-zeros to select features.\n",
    "\n",
    "$$f(w) = \\lVert Xw - y\\rVert_2^2 + \\lambda\\lVert w\\rVert_0$$    \n",
    "\n",
    "\n",
    "- L2-regularization (ridge regression):\n",
    "    - Adding penalty on the L2-norm of $w$ to decrease overfitting:\n",
    "$$f(w) = \\lVert Xw - y\\rVert_2^2 + \\lambda \\lVert w\\rVert_2^2$$    \n",
    "\n",
    "- L1-regularization (lasso regression):\n",
    "    - Adding penalty on the L1-norm decreases overfitting and selects features:\n",
    "$$f(w) = \\lVert Xw - y\\rVert_2^2 + \\lambda \\lVert w\\rVert_1$$            "
   ]
  },
  {
   "cell_type": "markdown",
   "metadata": {
    "slideshow": {
     "slide_type": "slide"
    }
   },
   "source": [
    "- Interpretations of coefficients of linear models should always be taken with a grain of salt\n",
    "    - Regularizing a model might change the sign of the coefficients. \n",
    "- Un-regularized linear regression: not affected by scaling\n",
    "- L1 or L2-regularized linear regression: both affected by scaling (and it's usually a good idea)"
   ]
  },
  {
   "cell_type": "markdown",
   "metadata": {
    "slideshow": {
     "slide_type": "skip"
    }
   },
   "source": [
    "<br><br><br><br>"
   ]
  }
 ],
 "metadata": {
  "celltoolbar": "Slideshow",
  "kernelspec": {
   "display_name": "571",
   "language": "python",
   "name": "571"
  },
  "language_info": {
   "codemirror_mode": {
    "name": "ipython",
    "version": 3
   },
   "file_extension": ".py",
   "mimetype": "text/x-python",
   "name": "python",
   "nbconvert_exporter": "python",
   "pygments_lexer": "ipython3",
   "version": "3.10.0"
  }
 },
 "nbformat": 4,
 "nbformat_minor": 4
}
